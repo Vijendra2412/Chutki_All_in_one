{
 "cells": [
  {
   "cell_type": "markdown",
   "metadata": {},
   "source": [
    "# MODULE 3: Python Operators"
   ]
  },
  {
   "cell_type": "markdown",
   "metadata": {},
   "source": [
    "Operators are those which perform operations on operands.eg: +, -, >, %, and, or etc.<br>\n"
   ]
  },
  {
   "cell_type": "markdown",
   "metadata": {},
   "source": [
    "#### Types of Operators:"
   ]
  },
  {
   "cell_type": "markdown",
   "metadata": {},
   "source": [
    "- **Arithmatic Operators**\n",
    "+, -, *, /, %, **,//\n",
    "- **Assignment Operators**\n",
    "=, +=, -=, *=, /=, %=, //=, **=,  &=, |=, ^=\n",
    "- **Comparison Operators**\n",
    "==, !=, >,<,>=,<=\n",
    "- **Logical Operators**\n",
    "**and, or, not**\n",
    "- **Identity Operators** : used to compare the objects<br>\n",
    "**is, is not**\n",
    "- **Membership Operators** - used to test if a sequence is present in an object.<br>\n",
    "**in, not in**\n",
    "- **Bitwise Operators**\n",
    "&, |, ^, ~"
   ]
  },
  {
   "cell_type": "markdown",
   "metadata": {},
   "source": [
    "## Arithmatic operators"
   ]
  },
  {
   "cell_type": "code",
   "execution_count": 64,
   "metadata": {},
   "outputs": [
    {
     "data": {
      "text/plain": [
       "3"
      ]
     },
     "execution_count": 64,
     "metadata": {},
     "output_type": "execute_result"
    }
   ],
   "source": [
    "10//3    #floor division will result the quotient part only"
   ]
  },
  {
   "cell_type": "code",
   "execution_count": 65,
   "metadata": {},
   "outputs": [
    {
     "data": {
      "text/plain": [
       "1"
      ]
     },
     "execution_count": 65,
     "metadata": {},
     "output_type": "execute_result"
    }
   ],
   "source": [
    "10%3     # modulus will result the remainder part only"
   ]
  },
  {
   "cell_type": "code",
   "execution_count": 82,
   "metadata": {},
   "outputs": [
    {
     "name": "stdout",
     "output_type": "stream",
     "text": [
      "HelloHelloHello\n"
     ]
    }
   ],
   "source": [
    "a = 'Hello'\n",
    "print(a*3)    #print 'Hello' 3 times"
   ]
  },
  {
   "cell_type": "code",
   "execution_count": 83,
   "metadata": {},
   "outputs": [
    {
     "name": "stdout",
     "output_type": "stream",
     "text": [
      "8\n"
     ]
    }
   ],
   "source": [
    "b = 4\n",
    "print(b*2)    #multiply b with 2"
   ]
  },
  {
   "cell_type": "code",
   "execution_count": 84,
   "metadata": {},
   "outputs": [
    {
     "name": "stdout",
     "output_type": "stream",
     "text": [
      "16\n"
     ]
    }
   ],
   "source": [
    "b = 4\n",
    "print(b**2)   # b has a power of 2"
   ]
  },
  {
   "cell_type": "markdown",
   "metadata": {},
   "source": [
    "## Assignment operators"
   ]
  },
  {
   "cell_type": "code",
   "execution_count": 67,
   "metadata": {},
   "outputs": [
    {
     "name": "stdout",
     "output_type": "stream",
     "text": [
      "7\n"
     ]
    }
   ],
   "source": [
    "a = 4   #assigning 4 to a\n",
    "b = 3   #assigning 3 to b\n",
    "a+=b    #assigning the sum of a+b to a\n",
    "print(a)"
   ]
  },
  {
   "cell_type": "code",
   "execution_count": 68,
   "metadata": {},
   "outputs": [
    {
     "data": {
      "text/plain": [
       "5"
      ]
     },
     "execution_count": 68,
     "metadata": {},
     "output_type": "execute_result"
    }
   ],
   "source": [
    "a = 8\n",
    "a-=b   # same as a = a-b\n",
    "a"
   ]
  },
  {
   "cell_type": "markdown",
   "metadata": {},
   "source": [
    "## Comparison Operators"
   ]
  },
  {
   "cell_type": "code",
   "execution_count": 69,
   "metadata": {},
   "outputs": [
    {
     "name": "stdout",
     "output_type": "stream",
     "text": [
      "False\n"
     ]
    }
   ],
   "source": [
    "x = 'name'\n",
    "y = 'fame'\n",
    "print(x==y)    #comapring if x is equal to y and returning the bool value"
   ]
  },
  {
   "cell_type": "code",
   "execution_count": 77,
   "metadata": {},
   "outputs": [
    {
     "name": "stdout",
     "output_type": "stream",
     "text": [
      "True\n"
     ]
    }
   ],
   "source": [
    "print(x != y)"
   ]
  },
  {
   "cell_type": "code",
   "execution_count": 80,
   "metadata": {},
   "outputs": [
    {
     "name": "stdout",
     "output_type": "stream",
     "text": [
      "True\n"
     ]
    }
   ],
   "source": [
    "print(45<=55)  #45 is less than 55, hence True"
   ]
  },
  {
   "cell_type": "code",
   "execution_count": 81,
   "metadata": {},
   "outputs": [
    {
     "name": "stdout",
     "output_type": "stream",
     "text": [
      "True\n"
     ]
    }
   ],
   "source": [
    "print(45<=45)  #45 is equal to 45, hence True"
   ]
  },
  {
   "cell_type": "markdown",
   "metadata": {},
   "source": [
    "## Logical Operators"
   ]
  },
  {
   "cell_type": "code",
   "execution_count": 85,
   "metadata": {},
   "outputs": [
    {
     "name": "stdout",
     "output_type": "stream",
     "text": [
      "True\n"
     ]
    }
   ],
   "source": [
    "x = 2\n",
    "y = 3\n",
    "z = x\n",
    "\n",
    "print(x<y and y>z)      # 'and' operator checks if both conditions are true"
   ]
  },
  {
   "cell_type": "code",
   "execution_count": 86,
   "metadata": {},
   "outputs": [
    {
     "name": "stdout",
     "output_type": "stream",
     "text": [
      "False\n"
     ]
    }
   ],
   "source": [
    "print(x>y and y>z)      # here x>y is false but y>z is true, but 'and' operator will give false output"
   ]
  },
  {
   "cell_type": "code",
   "execution_count": 88,
   "metadata": {},
   "outputs": [
    {
     "name": "stdout",
     "output_type": "stream",
     "text": [
      "True\n"
     ]
    }
   ],
   "source": [
    "print(x>y or y>z)       # if any of the condition is true; the output will be true in case of 'or' operator"
   ]
  },
  {
   "cell_type": "code",
   "execution_count": 89,
   "metadata": {},
   "outputs": [
    {
     "name": "stdout",
     "output_type": "stream",
     "text": [
      "False\n"
     ]
    }
   ],
   "source": [
    "print(not(x>y or y>z))    #'not' will reverse the output result"
   ]
  },
  {
   "cell_type": "markdown",
   "metadata": {},
   "source": [
    "## Identity Operators"
   ]
  },
  {
   "cell_type": "code",
   "execution_count": 92,
   "metadata": {},
   "outputs": [
    {
     "name": "stdout",
     "output_type": "stream",
     "text": [
      "yes\n"
     ]
    }
   ],
   "source": [
    "x = 'fame'\n",
    "y = 'fame'\n",
    "\n",
    "if x is y:         # 'is' operator will compare the identity of two objects\n",
    "    print('yes')\n",
    "else:\n",
    "    pass"
   ]
  },
  {
   "cell_type": "code",
   "execution_count": 94,
   "metadata": {},
   "outputs": [
    {
     "name": "stdout",
     "output_type": "stream",
     "text": [
      "objects are not equal\n"
     ]
    }
   ],
   "source": [
    "x = 'fame'\n",
    "y = 'name'\n",
    "\n",
    "if x is y:         # 'is' operator will compare the identity of two objects\n",
    "    print('yes objects are equal')\n",
    "else:\n",
    "    print('objects are not equal')"
   ]
  },
  {
   "cell_type": "code",
   "execution_count": 97,
   "metadata": {},
   "outputs": [
    {
     "name": "stdout",
     "output_type": "stream",
     "text": [
      "Yess! objects(x&y) are not equal\n"
     ]
    }
   ],
   "source": [
    "x = 'fame'\n",
    "y = 'name'\n",
    "if x is not y:\n",
    "    print('Yess! objects(x&y) are not equal')\n",
    "else:\n",
    "    print('objects are equal')"
   ]
  },
  {
   "cell_type": "markdown",
   "metadata": {},
   "source": [
    "## Membership Operators"
   ]
  },
  {
   "cell_type": "code",
   "execution_count": 101,
   "metadata": {},
   "outputs": [
    {
     "name": "stdout",
     "output_type": "stream",
     "text": [
      "yes apple is a member of variable a\n"
     ]
    }
   ],
   "source": [
    "a = ['apple', 'banana']\n",
    "\n",
    "if 'apple' in a:          # checking if sequence 'apple' is present in a\n",
    "    print('yes apple is a member of variable a')\n",
    "else:\n",
    "    print('apple is not a member of variable a')"
   ]
  },
  {
   "cell_type": "code",
   "execution_count": 102,
   "metadata": {},
   "outputs": [
    {
     "name": "stdout",
     "output_type": "stream",
     "text": [
      "NO! pineapple is not a member of a\n"
     ]
    }
   ],
   "source": [
    "a = ['apple', 'banana']\n",
    "\n",
    "if 'pineapple' not in a:    # checking if sequence 'pineapple' is present in a\n",
    "    print('NO! pineapple is not a member of a')\n",
    "else:\n",
    "    print('Yes! pineapple is a memeber a')"
   ]
  },
  {
   "cell_type": "code",
   "execution_count": 115,
   "metadata": {},
   "outputs": [
    {
     "name": "stdout",
     "output_type": "stream",
     "text": [
      "yes 'hersha' is present in 'shershaah'\n"
     ]
    }
   ],
   "source": [
    "a = 'shershaah'\n",
    "if 'hersha' in a:\n",
    "    print(\"yes 'hersha' is present in 'shershaah'\")\n",
    "else:\n",
    "    print(\"'hersha' is not present in 'shershaah'\")"
   ]
  },
  {
   "cell_type": "code",
   "execution_count": 117,
   "metadata": {},
   "outputs": [
    {
     "name": "stdout",
     "output_type": "stream",
     "text": [
      "'sahe' is not present in 'shershaah'\n"
     ]
    }
   ],
   "source": [
    "a = 'shershaah'\n",
    "if 'sahe' in a:\n",
    "    print(\"yes 'sahe' is present in 'shershaah'\")\n",
    "else:\n",
    "    print(\"'sahe' is not present in 'shershaah'\")"
   ]
  },
  {
   "cell_type": "code",
   "execution_count": 119,
   "metadata": {},
   "outputs": [
    {
     "name": "stdout",
     "output_type": "stream",
     "text": [
      "NO\n"
     ]
    }
   ],
   "source": [
    "a = 'shershaah'\n",
    "if 'hersha' is a:   #here 'is' operator is comparing the two objects 'hersha' & a which are not equal\n",
    "    print(\"YES\")\n",
    "else:\n",
    "    print(\"NO\")"
   ]
  },
  {
   "cell_type": "markdown",
   "metadata": {},
   "source": [
    "## Bitwise Operator"
   ]
  },
  {
   "cell_type": "code",
   "execution_count": 107,
   "metadata": {},
   "outputs": [
    {
     "name": "stdout",
     "output_type": "stream",
     "text": [
      "8\n"
     ]
    }
   ],
   "source": [
    "w = 8       #binary value of 8 is 1000\n",
    "x = 10      #binary value of 10 is 1010\n",
    "print(w & x)  # AND of w & x will result in 1000 whose decimal value is 8"
   ]
  },
  {
   "cell_type": "code",
   "execution_count": 108,
   "metadata": {},
   "outputs": [
    {
     "name": "stdout",
     "output_type": "stream",
     "text": [
      "10\n"
     ]
    }
   ],
   "source": [
    "w = 8       #binary value of 8 is 1000\n",
    "x = 10      #binary value of 10 is 1010\n",
    "print(w | x)  # OR of w & x will result in 1010 whose decimal value is 10"
   ]
  },
  {
   "cell_type": "code",
   "execution_count": 109,
   "metadata": {},
   "outputs": [
    {
     "name": "stdout",
     "output_type": "stream",
     "text": [
      "2\n"
     ]
    }
   ],
   "source": [
    "w = 8       #binary value of 8 is 1000\n",
    "x = 10      #binary value of 10 is 1010\n",
    "print(w ^ x)  # XOR of w & x will result in 0010 whose decimal value is 2"
   ]
  },
  {
   "cell_type": "code",
   "execution_count": 112,
   "metadata": {},
   "outputs": [
    {
     "name": "stdout",
     "output_type": "stream",
     "text": [
      "-3\n"
     ]
    }
   ],
   "source": [
    "w = 8       #binary value of 8 is 1000\n",
    "x = 10      #binary value of 10 is 1010\n",
    "print(~(w ^ x))  # w^x will result in 0010 whose 1's complement is 3(obtained by adding 1 to 0010)"
   ]
  },
  {
   "cell_type": "markdown",
   "metadata": {},
   "source": [
    "**What is the difference between the IS and == operators?**\n",
    "\n",
    "The is operator compares the identity of two objects while the == operator compares the values of two objects. There is a difference in meaning between equal and identical. ... The is operator evaluates to true if the variables on either side of the operator point to the same object and false otherwise."
   ]
  },
  {
   "cell_type": "markdown",
   "metadata": {},
   "source": [
    "## Assignment:"
   ]
  },
  {
   "cell_type": "markdown",
   "metadata": {},
   "source": [
    "1. What is the output of the expression:  print(-18 // 4)"
   ]
  },
  {
   "cell_type": "code",
   "execution_count": null,
   "metadata": {},
   "outputs": [],
   "source": []
  },
  {
   "cell_type": "markdown",
   "metadata": {},
   "source": [
    "2. What is the output of the following code<br>\n",
    "\n",
    "    print(bool(0), bool(3.14159), bool(-3), bool(1.0+1j))"
   ]
  },
  {
   "cell_type": "code",
   "execution_count": null,
   "metadata": {},
   "outputs": [],
   "source": []
  },
  {
   "cell_type": "markdown",
   "metadata": {},
   "source": [
    "3. Which of the following operators has the highest precedence?<br>\n",
    "    not, &, *, +"
   ]
  },
  {
   "cell_type": "code",
   "execution_count": null,
   "metadata": {},
   "outputs": [],
   "source": []
  },
  {
   "cell_type": "markdown",
   "metadata": {},
   "source": [
    "4. What is the output of: print(10 - 4 * 2)"
   ]
  },
  {
   "cell_type": "code",
   "execution_count": null,
   "metadata": {},
   "outputs": [],
   "source": []
  },
  {
   "cell_type": "markdown",
   "metadata": {},
   "source": [
    "5. What is the output of: print(2 ** 3 ** 2)"
   ]
  },
  {
   "cell_type": "code",
   "execution_count": 3,
   "metadata": {},
   "outputs": [
    {
     "data": {
      "text/plain": [
       "16"
      ]
     },
     "execution_count": 3,
     "metadata": {},
     "output_type": "execute_result"
    }
   ],
   "source": [
    "2**3*2"
   ]
  },
  {
   "cell_type": "code",
   "execution_count": null,
   "metadata": {},
   "outputs": [],
   "source": []
  }
 ],
 "metadata": {
  "kernelspec": {
   "display_name": "Python 3",
   "language": "python",
   "name": "python3"
  },
  "language_info": {
   "codemirror_mode": {
    "name": "ipython",
    "version": 3
   },
   "file_extension": ".py",
   "mimetype": "text/x-python",
   "name": "python",
   "nbconvert_exporter": "python",
   "pygments_lexer": "ipython3",
   "version": "3.7.6"
  }
 },
 "nbformat": 4,
 "nbformat_minor": 4
}
