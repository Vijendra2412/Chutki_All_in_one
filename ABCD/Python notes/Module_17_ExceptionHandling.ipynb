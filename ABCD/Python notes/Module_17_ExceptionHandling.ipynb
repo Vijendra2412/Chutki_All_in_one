{
 "cells": [
  {
   "cell_type": "markdown",
   "metadata": {},
   "source": [
    "# Module 17: Exception Handling"
   ]
  },
  {
   "cell_type": "markdown",
   "metadata": {},
   "source": [
    "# try\n",
    "- 'try' block will let you **test a block of code for errors.**<br>\n",
    "\n",
    "# except \n",
    "- 'except' block lets you **handle the error**<br>\n",
    "\n",
    "# finally\n",
    "- 'finally' block lets you execute code, **regardless of the result of the try and except blocks**."
   ]
  },
  {
   "cell_type": "markdown",
   "metadata": {},
   "source": [
    "When an error occurs, python will normally stop and generate an error message."
   ]
  },
  {
   "cell_type": "code",
   "execution_count": 1,
   "metadata": {},
   "outputs": [
    {
     "ename": "NameError",
     "evalue": "name 'x' is not defined",
     "output_type": "error",
     "traceback": [
      "\u001b[1;31m---------------------------------------------------------------------------\u001b[0m",
      "\u001b[1;31mNameError\u001b[0m                                 Traceback (most recent call last)",
      "\u001b[1;32mc:\\Users\\virug\\Desktop\\All Files\\new notes\\Module_17_ExceptionHandling.ipynb Cell 4\u001b[0m line \u001b[0;36m<cell line: 1>\u001b[1;34m()\u001b[0m\n\u001b[1;32m----> <a href='vscode-notebook-cell:/c%3A/Users/virug/Desktop/All%20Files/new%20notes/Module_17_ExceptionHandling.ipynb#W3sZmlsZQ%3D%3D?line=0'>1</a>\u001b[0m \u001b[39mprint\u001b[39m(x)\n",
      "\u001b[1;31mNameError\u001b[0m: name 'x' is not defined"
     ]
    }
   ],
   "source": [
    "print(x)     #NameError will be raised cause x is not defined"
   ]
  },
  {
   "cell_type": "markdown",
   "metadata": {},
   "source": [
    "So, these errors/exceptions can be handled using the **try** statement."
   ]
  },
  {
   "cell_type": "code",
   "execution_count": 2,
   "metadata": {},
   "outputs": [
    {
     "name": "stdout",
     "output_type": "stream",
     "text": [
      "Error Occurred\n"
     ]
    }
   ],
   "source": [
    "try:                   # try block will again raise an error cause x is still not defined\n",
    "    print(x)        \n",
    "except:                # but now except will handle that error\n",
    "    print('Error Occurred')"
   ]
  },
  {
   "cell_type": "markdown",
   "metadata": {},
   "source": [
    "## Many Exceptions\n",
    " - You can define as many exception blocks as you want. Eg: If you want to execute a **special block of code for a special kind of error**."
   ]
  },
  {
   "cell_type": "code",
   "execution_count": 3,
   "metadata": {},
   "outputs": [
    {
     "ename": "NameError",
     "evalue": "name 'x' is not defined",
     "output_type": "error",
     "traceback": [
      "\u001b[1;31m---------------------------------------------------------------------------\u001b[0m",
      "\u001b[1;31mNameError\u001b[0m                                 Traceback (most recent call last)",
      "\u001b[1;32m<ipython-input-3-bdc2cdcf8da0>\u001b[0m in \u001b[0;36m<module>\u001b[1;34m\u001b[0m\n\u001b[1;32m----> 1\u001b[1;33m \u001b[0mprint\u001b[0m\u001b[1;33m(\u001b[0m\u001b[0mx\u001b[0m\u001b[1;33m)\u001b[0m      \u001b[1;31m# still x is not defined, hence it will raise 'NameError'\u001b[0m\u001b[1;33m\u001b[0m\u001b[1;33m\u001b[0m\u001b[0m\n\u001b[0m",
      "\u001b[1;31mNameError\u001b[0m: name 'x' is not defined"
     ]
    }
   ],
   "source": [
    "print(x)      # still x is not defined, hence it will raise 'NameError'"
   ]
  },
  {
   "cell_type": "code",
   "execution_count": 4,
   "metadata": {},
   "outputs": [
    {
     "name": "stdout",
     "output_type": "stream",
     "text": [
      "Its a NameError error\n"
     ]
    }
   ],
   "source": [
    "try:\n",
    "    print(x)\n",
    "except TypeError:                   # error generated is not of TypeError hence it will not be executed\n",
    "    print('its a type error')\n",
    "except:                             # this exception will be executed by default \n",
    "    print('Its a NameError error')\n",
    "    "
   ]
  },
  {
   "cell_type": "code",
   "execution_count": null,
   "metadata": {},
   "outputs": [],
   "source": [
    "someVar1 = input()\n",
    "someVar2 = input()\n",
    "op = someVar1/someVar2\n",
    "print(op)"
   ]
  },
  {
   "cell_type": "code",
   "execution_count": 7,
   "metadata": {},
   "outputs": [],
   "source": [
    "x = 5               # now we are defining the value of x"
   ]
  },
  {
   "cell_type": "code",
   "execution_count": 5,
   "metadata": {},
   "outputs": [
    {
     "name": "stdout",
     "output_type": "stream",
     "text": [
      "Its a name error\n"
     ]
    }
   ],
   "source": [
    "try:                              # try block will get executed\n",
    "    print(x)\n",
    "except TypeError:\n",
    "    print('its a name error')\n",
    "except NameError:\n",
    "    print('Its a name error')\n",
    "except:\n",
    "    print('There is some error')\n",
    "\n",
    "# there is no error raised hence none of the exception blocks will get executed"
   ]
  },
  {
   "cell_type": "code",
   "execution_count": 6,
   "metadata": {},
   "outputs": [],
   "source": [
    "y = 'sun'               #defining a variable y of 'string' type"
   ]
  },
  {
   "cell_type": "code",
   "execution_count": 8,
   "metadata": {},
   "outputs": [
    {
     "name": "stdout",
     "output_type": "stream",
     "text": [
      "its a type error\n"
     ]
    }
   ],
   "source": [
    "try:\n",
    "    print(x>y)          # this will raise error cause one is 'int' type & one is 'str' type data\n",
    "    \n",
    "except TypeError:       # this block will  get executed\n",
    "    print('its a type error')\n",
    "except NameError:\n",
    "    print('Its a name error')\n",
    "except:\n",
    "    print('There is some error')"
   ]
  },
  {
   "cell_type": "code",
   "execution_count": 12,
   "metadata": {},
   "outputs": [],
   "source": [
    "\n",
    "z = 10                        # 'int' type variable z"
   ]
  },
  {
   "cell_type": "code",
   "execution_count": 14,
   "metadata": {},
   "outputs": [
    {
     "name": "stdout",
     "output_type": "stream",
     "text": [
      "True\n"
     ]
    }
   ],
   "source": [
    "try:\n",
    "    print(x<z)                # both x & z are of same type hence no error will be raised while comparing\n",
    "except TypeError:\n",
    "    print('its a type error')\n",
    "except NameError:\n",
    "    print('Its a name error')\n",
    "except:\n",
    "    print('There is some error')"
   ]
  },
  {
   "cell_type": "markdown",
   "metadata": {},
   "source": [
    "## Else"
   ]
  },
  {
   "cell_type": "markdown",
   "metadata": {},
   "source": [
    "If no errors were raised, else code block will be executed"
   ]
  },
  {
   "cell_type": "code",
   "execution_count": 18,
   "metadata": {},
   "outputs": [
    {
     "name": "stdout",
     "output_type": "stream",
     "text": [
      "False\n",
      "there is no error\n"
     ]
    }
   ],
   "source": [
    "try:\n",
    "    print(x>z)     # x = 5, z = 10\n",
    "    \n",
    "except TypeError:\n",
    "    print('its a type error')\n",
    "except NameError:\n",
    "    print('Its a name error')\n",
    "except:\n",
    "    print('There is some error')\n",
    "    \n",
    "else:                           # no error was raised in the try block hence 'else' block will get executed\n",
    "    print('there is no error')"
   ]
  },
  {
   "cell_type": "code",
   "execution_count": 19,
   "metadata": {},
   "outputs": [
    {
     "name": "stdout",
     "output_type": "stream",
     "text": [
      "Its a name error\n"
     ]
    }
   ],
   "source": [
    "a = 'name'\n",
    "b = 2\n",
    "c = 3\n",
    "\n",
    "try:\n",
    "    print(k)                    # k is not defined hence it will raise an error\n",
    "    \n",
    "except TypeError:\n",
    "    print('its a type error')\n",
    "except NameError:               # this block will get executed, as its a NameError\n",
    "    print('Its a name error')\n",
    "except:\n",
    "    print('There is some error')\n",
    "    \n",
    "else:                           #'else' block will not be executed since there was an error raised in 'try' block\n",
    "    print('there is no error')"
   ]
  },
  {
   "cell_type": "markdown",
   "metadata": {},
   "source": [
    "## Finally"
   ]
  },
  {
   "cell_type": "markdown",
   "metadata": {},
   "source": [
    "The finally block will be executed **regardless if the try block raises an error or not**.<br>\n",
    "This can be **useful to close objects and clean up resources.**"
   ]
  },
  {
   "cell_type": "code",
   "execution_count": 21,
   "metadata": {},
   "outputs": [],
   "source": [
    "u = 'name'                    # 'str' type variable u"
   ]
  },
  {
   "cell_type": "code",
   "execution_count": 22,
   "metadata": {},
   "outputs": [
    {
     "name": "stdout",
     "output_type": "stream",
     "text": [
      "there is error\n"
     ]
    }
   ],
   "source": [
    "try:\n",
    "    print(x>u)                # error will be raised\n",
    "except:\n",
    "    print('there is error')\n",
    "    \n",
    "else:                         # because of error raised in try block, else block will not be executed\n",
    "    print('the try-except is finished')"
   ]
  },
  {
   "cell_type": "code",
   "execution_count": 25,
   "metadata": {},
   "outputs": [
    {
     "name": "stdout",
     "output_type": "stream",
     "text": [
      "there is error\n",
      "Nothing can stop me from getting printed! :D\n"
     ]
    }
   ],
   "source": [
    "try:\n",
    "    print(x>u)                # error will be raised\n",
    "except:\n",
    "    print('there is error')\n",
    "    \n",
    "finally:                      # no matter what error was raised, unlike 'else' block, 'finally' block will get executed\n",
    "    print('Nothing can stop me from getting printed! :D')"
   ]
  },
  {
   "cell_type": "markdown",
   "metadata": {},
   "source": [
    "## Raise an Exception"
   ]
  },
  {
   "cell_type": "markdown",
   "metadata": {},
   "source": [
    "**You can choose** to throw/raise an exception, using the raise keyword.\n",
    "- use the **'raise'** keyword"
   ]
  },
  {
   "cell_type": "code",
   "execution_count": 30,
   "metadata": {},
   "outputs": [
    {
     "ename": "Exception",
     "evalue": "Some Error",
     "output_type": "error",
     "traceback": [
      "\u001b[1;31m---------------------------------------------------------------------------\u001b[0m",
      "\u001b[1;31mException\u001b[0m                                 Traceback (most recent call last)",
      "\u001b[1;32m<ipython-input-30-5094e96189c2>\u001b[0m in \u001b[0;36m<module>\u001b[1;34m\u001b[0m\n\u001b[0;32m      1\u001b[0m \u001b[0mx\u001b[0m \u001b[1;33m=\u001b[0m \u001b[1;36m1\u001b[0m\u001b[1;33m\u001b[0m\u001b[1;33m\u001b[0m\u001b[0m\n\u001b[0;32m      2\u001b[0m \u001b[1;32mif\u001b[0m \u001b[0mx\u001b[0m\u001b[1;33m>\u001b[0m\u001b[1;36m0\u001b[0m\u001b[1;33m:\u001b[0m\u001b[1;33m\u001b[0m\u001b[1;33m\u001b[0m\u001b[0m\n\u001b[1;32m----> 3\u001b[1;33m     \u001b[1;32mraise\u001b[0m \u001b[0mException\u001b[0m\u001b[1;33m(\u001b[0m\u001b[1;34m'Some Error'\u001b[0m\u001b[1;33m)\u001b[0m  \u001b[1;31m#you can define the type of error to raise\u001b[0m\u001b[1;33m\u001b[0m\u001b[1;33m\u001b[0m\u001b[0m\n\u001b[0m",
      "\u001b[1;31mException\u001b[0m: Some Error"
     ]
    }
   ],
   "source": [
    "x = 1\n",
    "if x>0:\n",
    "    raise Exception('Some Error')  #you can define the type of error to raise"
   ]
  },
  {
   "cell_type": "code",
   "execution_count": 31,
   "metadata": {},
   "outputs": [
    {
     "ename": "TypeError",
     "evalue": "Hello! this is a user defined error",
     "output_type": "error",
     "traceback": [
      "\u001b[1;31m---------------------------------------------------------------------------\u001b[0m",
      "\u001b[1;31mTypeError\u001b[0m                                 Traceback (most recent call last)",
      "\u001b[1;32m<ipython-input-31-08bef644be98>\u001b[0m in \u001b[0;36m<module>\u001b[1;34m\u001b[0m\n\u001b[0;32m      1\u001b[0m \u001b[0mx\u001b[0m \u001b[1;33m=\u001b[0m \u001b[1;36m1\u001b[0m\u001b[1;33m\u001b[0m\u001b[1;33m\u001b[0m\u001b[0m\n\u001b[0;32m      2\u001b[0m \u001b[1;32mif\u001b[0m \u001b[0mx\u001b[0m\u001b[1;33m>\u001b[0m\u001b[1;36m0\u001b[0m\u001b[1;33m:\u001b[0m\u001b[1;33m\u001b[0m\u001b[1;33m\u001b[0m\u001b[0m\n\u001b[1;32m----> 3\u001b[1;33m     \u001b[1;32mraise\u001b[0m \u001b[0mTypeError\u001b[0m\u001b[1;33m(\u001b[0m\u001b[1;34m'Hello! this is a user defined error'\u001b[0m\u001b[1;33m)\u001b[0m\u001b[1;33m\u001b[0m\u001b[1;33m\u001b[0m\u001b[0m\n\u001b[0m",
      "\u001b[1;31mTypeError\u001b[0m: Hello! this is a user defined error"
     ]
    }
   ],
   "source": [
    "x = 1\n",
    "if x>0:\n",
    "    raise TypeError('Hello! this is a user defined error')"
   ]
  },
  {
   "cell_type": "code",
   "execution_count": 48,
   "metadata": {},
   "outputs": [
    {
     "name": "stdout",
     "output_type": "stream",
     "text": [
      "Enter number 1 : \"24\"\n",
      "Enter number 2 : 24\n",
      "After changing the types : 48\n",
      "Inside Finally\n"
     ]
    }
   ],
   "source": [
    "import ast    # abstract syntax trees\n",
    "a = ast.literal_eval(input('Enter Value a : '))\n",
    "b = ast.literal_eval(input(\"Enter value b : \"))\n",
    "\n",
    "type_a = type(a)\n",
    "type_b = type(b)\n",
    "\n",
    "try:\n",
    "    print(a + b)\n",
    "    \n",
    "except TypeError:\n",
    "    \n",
    "    if type_a == str and type_b == int:\n",
    "        a = int(a)\n",
    "        print(f\"After changing the types : {a+b}\")\n",
    "        \n",
    "    elif type_a == int and type_b == str:\n",
    "        a = str(a)\n",
    "        print(f\"After changing the types : {a+b}\")\n",
    "    else:\n",
    "        print(\"Some other error\")\n",
    "        \n",
    "except:\n",
    "    print('Inside Except')\n",
    "    \n",
    "else:\n",
    "    print('Inside Else')\n",
    "    \n",
    "finally:\n",
    "    print('Inside Finally')\n",
    "    \n",
    "        \n",
    "    \n",
    "\n"
   ]
  },
  {
   "cell_type": "markdown",
   "metadata": {},
   "source": [
    "## User Input"
   ]
  },
  {
   "cell_type": "code",
   "execution_count": null,
   "metadata": {},
   "outputs": [],
   "source": [
    "name = input(\"Whats your name:\")\n",
    "print(\"Hello, \" + name)"
   ]
  },
  {
   "cell_type": "markdown",
   "metadata": {},
   "source": [
    "## Format Strings\n",
    "- to make sure a string will display as expected, we can format the result with the **format()** method."
   ]
  },
  {
   "cell_type": "code",
   "execution_count": null,
   "metadata": {},
   "outputs": [],
   "source": [
    "txt = \"Hello {}\"\n",
    "print(txt.format('Pradeep'))     # print Pradeep in place of curly brackets"
   ]
  },
  {
   "cell_type": "code",
   "execution_count": null,
   "metadata": {},
   "outputs": [],
   "source": [
    "txt = \"The price is {:.2f} Rupees\"    # .2f will format the number to 2 decimal place\n",
    "print(txt.format(95.6834))"
   ]
  },
  {
   "cell_type": "markdown",
   "metadata": {},
   "source": [
    "### Index Numbers\n",
    "- You can use index numbers to be sure the values are placed in the correct placeholders."
   ]
  },
  {
   "cell_type": "code",
   "execution_count": null,
   "metadata": {},
   "outputs": [],
   "source": [
    "txt = \"Hi, {0},{2} and {1}. Today is your OOPs class!\"\n",
    "print(txt.format('Pradeep','Sumati','Jay'))"
   ]
  },
  {
   "cell_type": "markdown",
   "metadata": {},
   "source": [
    "#### Refer to same value more than once"
   ]
  },
  {
   "cell_type": "code",
   "execution_count": null,
   "metadata": {},
   "outputs": [],
   "source": [
    "txt = \"Hi, {1}! {1} make sure you all attend the OOPs class today.{0} are you joining today?\"\n",
    "print(txt.format('Jay','Guys'))"
   ]
  },
  {
   "cell_type": "markdown",
   "metadata": {},
   "source": [
    "### Named Indexes\n",
    "- you can use named indexes by entering a name inside the curly brackets {carname} and pass the parameter value using their names."
   ]
  },
  {
   "cell_type": "code",
   "execution_count": null,
   "metadata": {},
   "outputs": [],
   "source": [
    "txt = \"I have a {carname}, it is a {model}.\"\n",
    "print(txt.format(carname='Tata Car', model = 'Harrier model'))"
   ]
  },
  {
   "cell_type": "code",
   "execution_count": null,
   "metadata": {},
   "outputs": [],
   "source": []
  }
 ],
 "metadata": {
  "kernelspec": {
   "display_name": "Python 3",
   "language": "python",
   "name": "python3"
  },
  "language_info": {
   "codemirror_mode": {
    "name": "ipython",
    "version": 3
   },
   "file_extension": ".py",
   "mimetype": "text/x-python",
   "name": "python",
   "nbconvert_exporter": "python",
   "pygments_lexer": "ipython3",
   "version": "3.9.12"
  }
 },
 "nbformat": 4,
 "nbformat_minor": 4
}
