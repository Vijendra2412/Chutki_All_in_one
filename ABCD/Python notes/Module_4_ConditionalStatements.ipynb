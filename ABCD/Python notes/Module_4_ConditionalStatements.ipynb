{
 "cells": [
  {
   "cell_type": "markdown",
   "metadata": {},
   "source": [
    "# Module 4: Conditional Statements"
   ]
  },
  {
   "cell_type": "markdown",
   "metadata": {},
   "source": [
    "### If statements\n",
    "### If-else statements\n",
    "### Elif statements\n",
    "### Nested If-Else Statements"
   ]
  },
  {
   "cell_type": "markdown",
   "metadata": {},
   "source": [
    "# If statement:\n",
    "- If statement is written by using the **'if'** keyword."
   ]
  },
  {
   "cell_type": "code",
   "execution_count": 1,
   "metadata": {},
   "outputs": [
    {
     "name": "stdout",
     "output_type": "stream",
     "text": [
      "x is less than y\n"
     ]
    }
   ],
   "source": [
    "x = 25\n",
    "y = 45\n",
    "if x<y:\n",
    "    print('x is less than y')"
   ]
  },
  {
   "cell_type": "markdown",
   "metadata": {},
   "source": [
    "## NOTE\n",
    "- **Python relies on identation**(whitespace at the beginning of a line) to define scope in the code. Other progrmming languages use curly-brackets for this purpose."
   ]
  },
  {
   "cell_type": "markdown",
   "metadata": {},
   "source": [
    "# Elif statement\n",
    "- If previous conditions were not true, then try this condition."
   ]
  },
  {
   "cell_type": "code",
   "execution_count": 2,
   "metadata": {},
   "outputs": [
    {
     "name": "stdout",
     "output_type": "stream",
     "text": [
      "x is smaller than y\n"
     ]
    }
   ],
   "source": [
    "x = 25\n",
    "y = 45\n",
    "if x>y:\n",
    "    print('x is greater than y')\n",
    "elif x<y:\n",
    "    print('x is smaller than y')"
   ]
  },
  {
   "cell_type": "markdown",
   "metadata": {},
   "source": [
    "# Else statement\n",
    "- The **else** keyword catches anything which isn't caught by the preceding conditions."
   ]
  },
  {
   "cell_type": "code",
   "execution_count": 3,
   "metadata": {},
   "outputs": [
    {
     "name": "stdout",
     "output_type": "stream",
     "text": [
      "x and y are equal\n"
     ]
    }
   ],
   "source": [
    "x = 25\n",
    "y = 25\n",
    "if x<y:\n",
    "    print('x is less than y')\n",
    "elif x>y:\n",
    "    print('x is greater than y')\n",
    "else:\n",
    "    print('x and y are equal')"
   ]
  },
  {
   "cell_type": "markdown",
   "metadata": {},
   "source": [
    "#### You can also use if-else condition without elif"
   ]
  },
  {
   "cell_type": "code",
   "execution_count": 4,
   "metadata": {},
   "outputs": [
    {
     "name": "stdout",
     "output_type": "stream",
     "text": [
      "x is greater than y \n"
     ]
    }
   ],
   "source": [
    "x = 87\n",
    "y = 45\n",
    "if x<y:\n",
    "    print('x is less than y')\n",
    "else:\n",
    "    print('x is greater than y ')"
   ]
  },
  {
   "cell_type": "markdown",
   "metadata": {},
   "source": [
    "# Nested If"
   ]
  },
  {
   "cell_type": "code",
   "execution_count": 5,
   "metadata": {},
   "outputs": [
    {
     "name": "stdout",
     "output_type": "stream",
     "text": [
      "30\n",
      "a is less than 50\n",
      "a is also less than 40\n"
     ]
    }
   ],
   "source": [
    "a = int(input())                #taking the user input as integer type\n",
    "if a < 50:                      #main if statement\n",
    "    print('a is less than 50')\n",
    "    if a < 40:                  # nested if\n",
    "        print('a is also less than 40')\n",
    "        if a < 30:\n",
    "            print('a is also less than 30')\n",
    "else:\n",
    "    print('a is greater than 50')"
   ]
  },
  {
   "cell_type": "markdown",
   "metadata": {},
   "source": [
    "# Nested If-Else"
   ]
  },
  {
   "cell_type": "code",
   "execution_count": 7,
   "metadata": {},
   "outputs": [
    {
     "name": "stdout",
     "output_type": "stream",
     "text": [
      "45\n",
      "a is less than 50\n",
      "a is greater than 39 but less than 50\n"
     ]
    }
   ],
   "source": [
    "a = int(input())                      #taking the user input as integer type\n",
    "if a <= 49:                            #main if statement\n",
    "    print('a is less than 50')\n",
    "    if a <= 39:                        # nested if\n",
    "        print('a is also less than 40')\n",
    "        if a <= 29:                    #nested if\n",
    "            print('a is also less than 30')\n",
    "        else:                         #nested else\n",
    "            print('a is greater than 29 but less than 40')\n",
    "    else:\n",
    "        print('a is greater than 39 but less than 50')\n",
    "else:\n",
    "    print('a is greater than 49')"
   ]
  },
  {
   "cell_type": "markdown",
   "metadata": {},
   "source": [
    "# Short Hand If\n",
    "- if you have only  one statement to execute, you can put it on the same line as the if statement"
   ]
  },
  {
   "cell_type": "code",
   "execution_count": 9,
   "metadata": {},
   "outputs": [
    {
     "name": "stdout",
     "output_type": "stream",
     "text": [
      "a is greater than b\n"
     ]
    }
   ],
   "source": [
    "a = 4\n",
    "b = 2\n",
    "if a > b: print('a is greater than b')"
   ]
  },
  {
   "cell_type": "markdown",
   "metadata": {},
   "source": [
    "# Short Hand If-Else\n",
    " - If you have only one statement to execute, one for if, and one for else, you can put it all on the same line."
   ]
  },
  {
   "cell_type": "code",
   "execution_count": 10,
   "metadata": {},
   "outputs": [
    {
     "name": "stdout",
     "output_type": "stream",
     "text": [
      "B is greater\n"
     ]
    }
   ],
   "source": [
    "a = 5\n",
    "b = 6\n",
    "print('A is greater') if a>b else print('B is greater')"
   ]
  },
  {
   "cell_type": "markdown",
   "metadata": {},
   "source": [
    "You can also have multiple else statements on the same line"
   ]
  },
  {
   "cell_type": "code",
   "execution_count": 12,
   "metadata": {},
   "outputs": [
    {
     "name": "stdout",
     "output_type": "stream",
     "text": [
      "A&B are equal\n"
     ]
    }
   ],
   "source": [
    "a = 5\n",
    "b = 5\n",
    "print('A') if a>b else print('B') if a<b else print('A&B are equal')"
   ]
  },
  {
   "cell_type": "markdown",
   "metadata": {},
   "source": [
    "## pass statement"
   ]
  },
  {
   "cell_type": "code",
   "execution_count": 8,
   "metadata": {},
   "outputs": [],
   "source": [
    "# if statement with no content will raise an error \n",
    "\n",
    "if 4<7:\n",
    "    pass       # simply use 'pass' if you dont have any content in the if statement, to avoid any error, "
   ]
  },
  {
   "cell_type": "code",
   "execution_count": null,
   "metadata": {},
   "outputs": [],
   "source": []
  }
 ],
 "metadata": {
  "kernelspec": {
   "display_name": "Python 3",
   "language": "python",
   "name": "python3"
  },
  "language_info": {
   "codemirror_mode": {
    "name": "ipython",
    "version": 3
   },
   "file_extension": ".py",
   "mimetype": "text/x-python",
   "name": "python",
   "nbconvert_exporter": "python",
   "pygments_lexer": "ipython3",
   "version": "3.7.6"
  }
 },
 "nbformat": 4,
 "nbformat_minor": 4
}
