{
 "cells": [
  {
   "cell_type": "markdown",
   "metadata": {},
   "source": [
    "# Python RegEx"
   ]
  },
  {
   "cell_type": "markdown",
   "metadata": {},
   "source": [
    "## What we will learn ?\n",
    "    What are Regular Expressions ?\n",
    "    Why we use Regular Expressions ?\n",
    "    What are Metacharacters in RegEx ?\n",
    "    Different types of Metacharacters in Python.\n",
    "    Special Sequences In RegEx ?\n",
    "    Basic Regular Expression Operations\n",
    "    Phone Number Verification\n",
    "    Email Verification\n",
    "    Web scrapping using RegEx"
   ]
  },
  {
   "cell_type": "markdown",
   "metadata": {},
   "source": [
    "### What are regular expressions ?\n",
    "    RegEx is a special text string for describing a search pattern. We can use regex in python by importing the re module.\n",
    "    \n",
    "### Why we use regular expressions ?\n",
    "- to extract the date & time from log file\n",
    "- to verify emails format\n",
    "- to verify a correct phone number\n",
    "- to search for a specific pattern in database\n",
    "    "
   ]
  },
  {
   "cell_type": "code",
   "execution_count": 1,
   "metadata": {},
   "outputs": [],
   "source": [
    "# In order to use RegEx module, we have to import it:\n",
    "\n",
    "import re"
   ]
  },
  {
   "cell_type": "code",
   "execution_count": null,
   "metadata": {},
   "outputs": [],
   "source": [
    "dir(re)"
   ]
  },
  {
   "cell_type": "code",
   "execution_count": null,
   "metadata": {},
   "outputs": [],
   "source": [
    "pattern = \"^a...e$\"\n",
    "test_string = \"apple\"\n",
    "\n",
    "result = re.match(\"^a...e$\",\"apple\")   #re.match() function to search pattern within the test_string\n",
    "print(result)\n",
    "\n",
    "if result:    # False\n",
    "    print('Match found')\n",
    "else:\n",
    "    print('Match not found')"
   ]
  },
  {
   "cell_type": "markdown",
   "metadata": {},
   "source": [
    "# Metacharacters:\n",
    "\n",
    "To specify the pattern using regular expressions we use **metacharacters**.<br>\n",
    "They are interpreted in a special way by a regex engine.<br>\n",
    "**Metacharacters:** [ ] . ^ $ + ? { } ( ) \\ |"
   ]
  },
  {
   "cell_type": "markdown",
   "metadata": {},
   "source": [
    "# 1. Square Brackets[ ]\n",
    "- specifies a set of characters you wish to match\n",
    "- you can also specify the range"
   ]
  },
  {
   "cell_type": "code",
   "execution_count": 2,
   "metadata": {},
   "outputs": [
    {
     "name": "stdout",
     "output_type": "stream",
     "text": [
      "['a', 'a', 'a']\n"
     ]
    }
   ],
   "source": [
    "print(re.findall(\"[a]\", \"abcdefaga\"))"
   ]
  },
  {
   "cell_type": "code",
   "execution_count": 3,
   "metadata": {},
   "outputs": [
    {
     "name": "stdout",
     "output_type": "stream",
     "text": [
      "['b', 'c', 'd', 'e']\n"
     ]
    }
   ],
   "source": [
    "print(re.findall(\"[b-e]\", \"abcdefg\"))"
   ]
  },
  {
   "cell_type": "code",
   "execution_count": 4,
   "metadata": {},
   "outputs": [
    {
     "name": "stdout",
     "output_type": "stream",
     "text": [
      "['1', '2', '4']\n"
     ]
    }
   ],
   "source": [
    "print(re.findall(\"[1-4]\", \"abcdefg 124589\"))"
   ]
  },
  {
   "cell_type": "code",
   "execution_count": 5,
   "metadata": {},
   "outputs": [
    {
     "name": "stdout",
     "output_type": "stream",
     "text": [
      "['1', '2', '4', '8']\n"
     ]
    }
   ],
   "source": [
    "print(re.findall(\"[1-48]\", \"abcdefg 124589\"))"
   ]
  },
  {
   "cell_type": "markdown",
   "metadata": {},
   "source": [
    "You can also complement the character set by using **caret^** symbol at the start of a square-bracket"
   ]
  },
  {
   "cell_type": "code",
   "execution_count": 6,
   "metadata": {},
   "outputs": [
    {
     "name": "stdout",
     "output_type": "stream",
     "text": [
      "['a', 'b', 'g', ' ', '5', '8', '9']\n"
     ]
    }
   ],
   "source": [
    "print(re.findall(\"[^c-f1-4]\", \"abcdefg 124589\"))"
   ]
  },
  {
   "cell_type": "markdown",
   "metadata": {},
   "source": [
    "# 2. Period(.)\n",
    "- matches any single character"
   ]
  },
  {
   "cell_type": "code",
   "execution_count": 7,
   "metadata": {},
   "outputs": [
    {
     "name": "stdout",
     "output_type": "stream",
     "text": [
      "['ab', 'cd', 'ef']\n"
     ]
    }
   ],
   "source": [
    "print(re.findall(\"..\", \"abcdefg\"))"
   ]
  },
  {
   "cell_type": "code",
   "execution_count": 9,
   "metadata": {},
   "outputs": [
    {
     "name": "stdout",
     "output_type": "stream",
     "text": [
      "[]\n"
     ]
    }
   ],
   "source": [
    "print(re.findall(\"..\", \"a\"))"
   ]
  },
  {
   "cell_type": "markdown",
   "metadata": {},
   "source": [
    "# 3. Caret ^\n",
    "- is used to check if a string starts with a certain character"
   ]
  },
  {
   "cell_type": "code",
   "execution_count": 10,
   "metadata": {},
   "outputs": [
    {
     "name": "stdout",
     "output_type": "stream",
     "text": [
      "['app']\n"
     ]
    }
   ],
   "source": [
    "print(re.findall(\"^app\", \"apple\"))"
   ]
  },
  {
   "cell_type": "markdown",
   "metadata": {},
   "source": [
    "# 4. Dollar $\n",
    "- is used to check if a string ends with a certain character"
   ]
  },
  {
   "cell_type": "code",
   "execution_count": 15,
   "metadata": {},
   "outputs": [
    {
     "name": "stdout",
     "output_type": "stream",
     "text": [
      "['apple']\n"
     ]
    }
   ],
   "source": [
    "print(re.findall(r\"....e$\", \"apple\"))"
   ]
  },
  {
   "cell_type": "markdown",
   "metadata": {},
   "source": [
    "# 5. Star *\n",
    "-  the * matches **zero or more occurrences** of the pattern left to it."
   ]
  },
  {
   "cell_type": "code",
   "execution_count": 21,
   "metadata": {},
   "outputs": [
    {
     "name": "stdout",
     "output_type": "stream",
     "text": [
      "['appl']\n"
     ]
    }
   ],
   "source": [
    "print(re.findall(\"ap*l\", \"apple\"))"
   ]
  },
  {
   "cell_type": "code",
   "execution_count": 23,
   "metadata": {},
   "outputs": [
    {
     "name": "stdout",
     "output_type": "stream",
     "text": [
      "<re.Match object; span=(0, 3), match='apl'>\n"
     ]
    }
   ],
   "source": [
    "print(re.match(\"ap*l\", \"aple\"))"
   ]
  },
  {
   "cell_type": "code",
   "execution_count": 24,
   "metadata": {},
   "outputs": [
    {
     "name": "stdout",
     "output_type": "stream",
     "text": [
      "<re.Match object; span=(0, 2), match='al'>\n"
     ]
    }
   ],
   "source": [
    "print(re.match(\"ap*l\", \"ale\"))"
   ]
  },
  {
   "cell_type": "code",
   "execution_count": 25,
   "metadata": {},
   "outputs": [
    {
     "name": "stdout",
     "output_type": "stream",
     "text": [
      "None\n"
     ]
    }
   ],
   "source": [
    "print(re.match(\"ap*l\", \"able\"))"
   ]
  },
  {
   "cell_type": "code",
   "execution_count": 26,
   "metadata": {},
   "outputs": [
    {
     "name": "stdout",
     "output_type": "stream",
     "text": [
      "<re.Match object; span=(0, 2), match='le'>\n"
     ]
    }
   ],
   "source": [
    "print(re.match(\"a*p*le\", \"le\"))"
   ]
  },
  {
   "cell_type": "markdown",
   "metadata": {},
   "source": [
    "# 6. Plus +\n",
    "- '+' matches **one or more ocurrences** of the pattern left to it."
   ]
  },
  {
   "cell_type": "code",
   "execution_count": 27,
   "metadata": {},
   "outputs": [
    {
     "name": "stdout",
     "output_type": "stream",
     "text": [
      "<re.Match object; span=(0, 4), match='appl'>\n"
     ]
    }
   ],
   "source": [
    "print(re.match(\"ap+l\", \"apple\"))"
   ]
  },
  {
   "cell_type": "code",
   "execution_count": 28,
   "metadata": {},
   "outputs": [
    {
     "name": "stdout",
     "output_type": "stream",
     "text": [
      "<re.Match object; span=(0, 3), match='apl'>\n"
     ]
    }
   ],
   "source": [
    "print(re.match(\"ap+l\", \"aple\"))"
   ]
  },
  {
   "cell_type": "code",
   "execution_count": 29,
   "metadata": {},
   "outputs": [
    {
     "name": "stdout",
     "output_type": "stream",
     "text": [
      "[]\n"
     ]
    }
   ],
   "source": [
    "print(re.findall(\"ap+l\", \"ale\"))"
   ]
  },
  {
   "cell_type": "code",
   "execution_count": 30,
   "metadata": {},
   "outputs": [
    {
     "name": "stdout",
     "output_type": "stream",
     "text": [
      "[]\n"
     ]
    }
   ],
   "source": [
    "print(re.findall(\"ap+l\", \"apppe\"))"
   ]
  },
  {
   "cell_type": "code",
   "execution_count": 31,
   "metadata": {},
   "outputs": [
    {
     "name": "stdout",
     "output_type": "stream",
     "text": [
      "['aaaaapppl']\n"
     ]
    }
   ],
   "source": [
    "print(re.findall(\"a+p+l\", \"aaaaappple\"))"
   ]
  },
  {
   "cell_type": "markdown",
   "metadata": {},
   "source": [
    "# 7. Question Mark ?\n",
    "- '?' matches **zero or one occurrence** of the pattern left to it."
   ]
  },
  {
   "cell_type": "code",
   "execution_count": 32,
   "metadata": {},
   "outputs": [
    {
     "name": "stdout",
     "output_type": "stream",
     "text": [
      "['apl']\n"
     ]
    }
   ],
   "source": [
    "print(re.findall(\"ap?l\", \"aple\"))"
   ]
  },
  {
   "cell_type": "code",
   "execution_count": 33,
   "metadata": {},
   "outputs": [
    {
     "name": "stdout",
     "output_type": "stream",
     "text": [
      "[]\n"
     ]
    }
   ],
   "source": [
    "print(re.findall(\"ap?l\", \"apple\"))"
   ]
  },
  {
   "cell_type": "code",
   "execution_count": 34,
   "metadata": {},
   "outputs": [
    {
     "name": "stdout",
     "output_type": "stream",
     "text": [
      "[]\n"
     ]
    }
   ],
   "source": [
    "print(re.findall(\"ap?l\", \"le\"))"
   ]
  },
  {
   "cell_type": "code",
   "execution_count": 35,
   "metadata": {},
   "outputs": [
    {
     "name": "stdout",
     "output_type": "stream",
     "text": [
      "[]\n"
     ]
    }
   ],
   "source": [
    "print(re.findall(\"ap?l\", \"pamle\"))"
   ]
  },
  {
   "cell_type": "markdown",
   "metadata": {},
   "source": [
    "# 8. Braces {n,m}\n",
    "- at least **n repetitions** and **at most m repetitions**"
   ]
  },
  {
   "cell_type": "code",
   "execution_count": 36,
   "metadata": {},
   "outputs": [
    {
     "name": "stdout",
     "output_type": "stream",
     "text": [
      "['aa']\n"
     ]
    }
   ],
   "source": [
    "print(re.findall(\"a{2,4}\", \"aapple is apple\"))"
   ]
  },
  {
   "cell_type": "code",
   "execution_count": 37,
   "metadata": {},
   "outputs": [
    {
     "name": "stdout",
     "output_type": "stream",
     "text": [
      "['apppp', 'app']\n"
     ]
    }
   ],
   "source": [
    "print(re.findall(\"ap{2,4}\", \"aapppppple is apple\"))"
   ]
  },
  {
   "cell_type": "code",
   "execution_count": 38,
   "metadata": {},
   "outputs": [
    {
     "name": "stdout",
     "output_type": "stream",
     "text": [
      "['apppp']\n"
     ]
    }
   ],
   "source": [
    "print(re.findall(\"ap{2,4}\", \"aapppppple is bpple\"))"
   ]
  },
  {
   "cell_type": "code",
   "execution_count": 39,
   "metadata": {},
   "outputs": [
    {
     "name": "stdout",
     "output_type": "stream",
     "text": [
      "['aaaaa', 'aaa', 'aaaa']\n"
     ]
    }
   ],
   "source": [
    "print(re.findall(\"a{2,5}\", \"aaaaaaaapppppple is aaaapple\"))"
   ]
  },
  {
   "cell_type": "code",
   "execution_count": 40,
   "metadata": {},
   "outputs": [
    {
     "name": "stdout",
     "output_type": "stream",
     "text": [
      "['aaaaappp', 'aaaapp']\n"
     ]
    }
   ],
   "source": [
    "print(re.findall(\"a{2,5}p{2,3}\", \"aaaaaaaapppppple is aaaapple\"))"
   ]
  },
  {
   "cell_type": "code",
   "execution_count": 41,
   "metadata": {},
   "outputs": [
    {
     "name": "stdout",
     "output_type": "stream",
     "text": [
      "[]\n"
     ]
    }
   ],
   "source": [
    "print(re.findall(\"ba{2,5}p{2,3}\", \"aaaaaaaapppppple is aaaapple\"))"
   ]
  },
  {
   "cell_type": "markdown",
   "metadata": {},
   "source": [
    "# 9. Alternation |\n",
    "- vertical bar is used for alternation(or operator)"
   ]
  },
  {
   "cell_type": "code",
   "execution_count": 42,
   "metadata": {},
   "outputs": [
    {
     "name": "stdout",
     "output_type": "stream",
     "text": [
      "['a', 'b', 'b', 'a', 'a']\n"
     ]
    }
   ],
   "source": [
    "print(re.findall('a|b', 'abcdefba, ade, cde'))    # any string that contains either 'a' or 'b'"
   ]
  },
  {
   "cell_type": "code",
   "execution_count": 43,
   "metadata": {},
   "outputs": [
    {
     "name": "stdout",
     "output_type": "stream",
     "text": [
      "['X']\n"
     ]
    }
   ],
   "source": [
    "print(re.findall('X|Y|Za', 'Mr.X has come.'))    # any string that contains either 'X' or 'Y' or 'Za'"
   ]
  },
  {
   "cell_type": "markdown",
   "metadata": {},
   "source": [
    "# 10. Group ( )\n",
    "- parenthesis ( ) is used to group sub-patterns.\n",
    "- for example - **(a|b|c)xz**\n"
   ]
  },
  {
   "cell_type": "code",
   "execution_count": 46,
   "metadata": {},
   "outputs": [
    {
     "name": "stdout",
     "output_type": "stream",
     "text": [
      "['b']\n"
     ]
    }
   ],
   "source": [
    "print(re.findall('(a|b|c)xz', 'abcz abxz'))    # any string that contains either 'a' or 'b' or 'c' followed by 'xz'"
   ]
  },
  {
   "cell_type": "markdown",
   "metadata": {},
   "source": [
    "# 11. Backslash \\\n",
    "- is used to escape various characters including all metacharacters."
   ]
  },
  {
   "cell_type": "code",
   "execution_count": 47,
   "metadata": {},
   "outputs": [
    {
     "name": "stdout",
     "output_type": "stream",
     "text": [
      "['$a']\n"
     ]
    }
   ],
   "source": [
    "print(re.findall('\\$a', 'abcd $a'))    # backslash will excape the meaning of '$' character and it will search '$a' in the search string"
   ]
  },
  {
   "cell_type": "markdown",
   "metadata": {},
   "source": [
    "## NOTE :\n",
    "**If you are unsure if a character has a special meaning or not, you can put '\\' in front of it. This makes sure that character is not treated in a special way.**"
   ]
  },
  {
   "cell_type": "markdown",
   "metadata": {},
   "source": [
    "# Special Sequences :"
   ]
  },
  {
   "cell_type": "markdown",
   "metadata": {},
   "source": [
    "# 1. \\A\n",
    "- Matches if the **specified characters are at the start of a string.**"
   ]
  },
  {
   "cell_type": "code",
   "execution_count": 48,
   "metadata": {},
   "outputs": [
    {
     "name": "stdout",
     "output_type": "stream",
     "text": [
      "<re.Match object; span=(0, 3), match='the'>\n"
     ]
    }
   ],
   "source": [
    "print(re.match(r'\\Athe', 'the sun is red the'))  # r means raw string  "
   ]
  },
  {
   "cell_type": "code",
   "execution_count": 49,
   "metadata": {},
   "outputs": [
    {
     "name": "stdout",
     "output_type": "stream",
     "text": [
      "None\n"
     ]
    }
   ],
   "source": [
    "print(re.match(r'\\AHello', 'Hi World'))    "
   ]
  },
  {
   "cell_type": "markdown",
   "metadata": {},
   "source": [
    "# 2. \\b\n",
    "- Matches if the specified characters are at the **beginning or end** of a word.\n"
   ]
  },
  {
   "cell_type": "code",
   "execution_count": 50,
   "metadata": {},
   "outputs": [
    {
     "name": "stdout",
     "output_type": "stream",
     "text": [
      "<re.Match object; span=(0, 3), match='foo'>\n"
     ]
    }
   ],
   "source": [
    "print(re.search(r'\\bfoo', 'football'))    # r specifies the raw string"
   ]
  },
  {
   "cell_type": "code",
   "execution_count": 51,
   "metadata": {},
   "outputs": [
    {
     "name": "stdout",
     "output_type": "stream",
     "text": [
      "<re.Match object; span=(2, 5), match='foo'>\n"
     ]
    }
   ],
   "source": [
    "print(re.search(r'\\bfoo', 'a football'))    # r specifies the raw string"
   ]
  },
  {
   "cell_type": "code",
   "execution_count": 60,
   "metadata": {},
   "outputs": [
    {
     "name": "stdout",
     "output_type": "stream",
     "text": [
      "None\n"
     ]
    }
   ],
   "source": [
    "print(re.match(r'foo\\b', 'ball is played by foo ballfoo'))    # foo is at the end of a word 'afoo' hence a match"
   ]
  },
  {
   "cell_type": "code",
   "execution_count": 64,
   "metadata": {},
   "outputs": [
    {
     "name": "stdout",
     "output_type": "stream",
     "text": [
      "['foo', 'foo']\n"
     ]
    }
   ],
   "source": [
    "print(re.findall(r'foo\\b', 'foo ball is played by foo ball'))    # foo is at the end of a word 'afoo' hence a match"
   ]
  },
  {
   "cell_type": "code",
   "execution_count": 62,
   "metadata": {},
   "outputs": [],
   "source": [
    "?re.search"
   ]
  },
  {
   "cell_type": "code",
   "execution_count": 65,
   "metadata": {},
   "outputs": [
    {
     "name": "stdout",
     "output_type": "stream",
     "text": [
      "None\n"
     ]
    }
   ],
   "source": [
    "print(re.search(r'foo\\b', 'ball is afootball'))    # foo is not at the end of a word 'afootball' hence no match"
   ]
  },
  {
   "cell_type": "code",
   "execution_count": 67,
   "metadata": {},
   "outputs": [
    {
     "name": "stdout",
     "output_type": "stream",
     "text": [
      "None\n"
     ]
    }
   ],
   "source": [
    "print(re.search(r'\\bfoo\\b', 'ball is afoo'))      # creating a boundary '\\b...\\b', to match only for 'foo'"
   ]
  },
  {
   "cell_type": "code",
   "execution_count": 68,
   "metadata": {},
   "outputs": [
    {
     "name": "stdout",
     "output_type": "stream",
     "text": [
      "<re.Match object; span=(8, 11), match='foo'>\n"
     ]
    }
   ],
   "source": [
    "print(re.search(r'\\bfoo\\b', 'ball is foo'))      # creating a boundary '\\b...\\b', to match only for 'foo'"
   ]
  },
  {
   "cell_type": "markdown",
   "metadata": {},
   "source": [
    "# 3. \\B\n",
    "- it is opposite of \\b\n",
    "- matches if the specified characters are **not at beginning or at the end** of a word."
   ]
  },
  {
   "cell_type": "code",
   "execution_count": 69,
   "metadata": {},
   "outputs": [
    {
     "name": "stdout",
     "output_type": "stream",
     "text": [
      "None\n"
     ]
    }
   ],
   "source": [
    "print(re.search(r'\\Bfoo', 'a football'))  # here 'foo' is at the beginning of a word 'football'; hence no match"
   ]
  },
  {
   "cell_type": "code",
   "execution_count": 70,
   "metadata": {},
   "outputs": [
    {
     "name": "stdout",
     "output_type": "stream",
     "text": [
      "<re.Match object; span=(2, 5), match='foo'>\n"
     ]
    }
   ],
   "source": [
    "print(re.search(r'foo\\B', 'a football'))  # here 'foo' is not at the end, hence a match"
   ]
  },
  {
   "cell_type": "code",
   "execution_count": 71,
   "metadata": {},
   "outputs": [
    {
     "name": "stdout",
     "output_type": "stream",
     "text": [
      "<re.Match object; span=(1, 4), match='foo'>\n"
     ]
    }
   ],
   "source": [
    "print(re.search(r'\\Bfoo\\B', 'afootball'))   # 'foo' is not at the beginning nor at the end"
   ]
  },
  {
   "cell_type": "markdown",
   "metadata": {},
   "source": [
    "# 4. \\d\n",
    "- Matches any decimal digit; equivalent to **[0-9]**"
   ]
  },
  {
   "cell_type": "code",
   "execution_count": 72,
   "metadata": {},
   "outputs": [
    {
     "name": "stdout",
     "output_type": "stream",
     "text": [
      "['2', '3', '4', '7', '8']\n"
     ]
    }
   ],
   "source": [
    "print(re.findall(r'\\d', 'abcd234xyz78'))  "
   ]
  },
  {
   "cell_type": "markdown",
   "metadata": {},
   "source": [
    "# 5. \\D\n",
    "- Matches any non decimal digit; equivalent to **[^0-9]**"
   ]
  },
  {
   "cell_type": "code",
   "execution_count": 73,
   "metadata": {},
   "outputs": [
    {
     "name": "stdout",
     "output_type": "stream",
     "text": [
      "['a', 'b', 'c', 'd', 'x', 'y', 'z']\n"
     ]
    }
   ],
   "source": [
    "print(re.findall(r'\\D', 'abcd234xyz78'))  "
   ]
  },
  {
   "cell_type": "code",
   "execution_count": 74,
   "metadata": {},
   "outputs": [
    {
     "name": "stdout",
     "output_type": "stream",
     "text": [
      "[]\n"
     ]
    }
   ],
   "source": [
    "print(re.findall(r'\\D', '12345'))  "
   ]
  },
  {
   "cell_type": "markdown",
   "metadata": {},
   "source": [
    "# 6. \\s\n",
    "- Matches where a string contains any **whitespace character**"
   ]
  },
  {
   "cell_type": "code",
   "execution_count": 76,
   "metadata": {},
   "outputs": [
    {
     "name": "stdout",
     "output_type": "stream",
     "text": [
      "[' ', ' ', ' ']\n"
     ]
    }
   ],
   "source": [
    "print(re.findall(r'\\s', 'abcd 234 xyz 78'))  "
   ]
  },
  {
   "cell_type": "markdown",
   "metadata": {},
   "source": [
    "# 7. \\S\n",
    "- matches any **non-whitespace character**\n",
    "- equivalent to **[^\\t\\n\\r\\f\\v]**"
   ]
  },
  {
   "cell_type": "code",
   "execution_count": 75,
   "metadata": {},
   "outputs": [
    {
     "name": "stdout",
     "output_type": "stream",
     "text": [
      "['x', 'y', 'z', '4', '5']\n"
     ]
    }
   ],
   "source": [
    "print(re.findall(r'\\S', 'xyz 45'))  "
   ]
  },
  {
   "cell_type": "markdown",
   "metadata": {},
   "source": [
    "# 8. \\w\n",
    "- matches any **alphanumeric character**\n",
    "- equivalent to **[a-zA-Z0-9_]**"
   ]
  },
  {
   "cell_type": "code",
   "execution_count": 77,
   "metadata": {},
   "outputs": [
    {
     "name": "stdout",
     "output_type": "stream",
     "text": [
      "['x', 'y', 'z', '1', '2', '3']\n"
     ]
    }
   ],
   "source": [
    "print(re.findall(r'\\w', 'xyz 123'))  "
   ]
  },
  {
   "cell_type": "code",
   "execution_count": 78,
   "metadata": {},
   "outputs": [
    {
     "name": "stdout",
     "output_type": "stream",
     "text": [
      "[]\n"
     ]
    }
   ],
   "source": [
    "print(re.findall(r'\\w', '#$%@'))  "
   ]
  },
  {
   "cell_type": "markdown",
   "metadata": {},
   "source": [
    "# 9. \\W\n",
    "- matches any **non-alphanumeric character**\n",
    "- equivalent to **[^a-zA-Z0-9_ ]**"
   ]
  },
  {
   "cell_type": "code",
   "execution_count": 79,
   "metadata": {},
   "outputs": [
    {
     "name": "stdout",
     "output_type": "stream",
     "text": [
      "['#', '$', '%', '@']\n"
     ]
    }
   ],
   "source": [
    "print(re.findall(r'\\W', '#$%@'))  "
   ]
  },
  {
   "cell_type": "code",
   "execution_count": 80,
   "metadata": {},
   "outputs": [
    {
     "name": "stdout",
     "output_type": "stream",
     "text": [
      "[' ']\n"
     ]
    }
   ],
   "source": [
    "print(re.findall(r'\\W', 'xyz 123'))  "
   ]
  },
  {
   "cell_type": "markdown",
   "metadata": {},
   "source": [
    "# 10. \\Z\n",
    "- matches if the specified characters are at the **end of a string**."
   ]
  },
  {
   "cell_type": "code",
   "execution_count": 81,
   "metadata": {},
   "outputs": [
    {
     "name": "stdout",
     "output_type": "stream",
     "text": [
      "['Python']\n"
     ]
    }
   ],
   "source": [
    "print(re.findall(r'Python\\Z', 'I love Python'))  "
   ]
  },
  {
   "cell_type": "code",
   "execution_count": 82,
   "metadata": {},
   "outputs": [
    {
     "name": "stdout",
     "output_type": "stream",
     "text": [
      "[]\n"
     ]
    }
   ],
   "source": [
    "print(re.findall(r'\\ZPython', 'I love Python'))  "
   ]
  },
  {
   "cell_type": "code",
   "execution_count": 83,
   "metadata": {},
   "outputs": [
    {
     "name": "stdout",
     "output_type": "stream",
     "text": [
      "[]\n"
     ]
    }
   ],
   "source": [
    "print(re.findall(r'\\ZPython', 'Python is my love'))  "
   ]
  },
  {
   "cell_type": "code",
   "execution_count": 84,
   "metadata": {},
   "outputs": [
    {
     "name": "stdout",
     "output_type": "stream",
     "text": [
      "['Python']\n"
     ]
    }
   ],
   "source": [
    "print(re.findall(r'Python\\Z', 'Python is my lovePython'))  "
   ]
  },
  {
   "cell_type": "markdown",
   "metadata": {},
   "source": [
    "# Basic Regular Expression Operations ?"
   ]
  },
  {
   "cell_type": "markdown",
   "metadata": {},
   "source": [
    "- re.findall()\n",
    "- re.search()\n",
    "- re.match()\n",
    "- re.split()\n",
    "- re.sub()\n",
    "- re.subn()\n",
    "- re.compile()\n",
    "- match.group()"
   ]
  },
  {
   "cell_type": "code",
   "execution_count": null,
   "metadata": {},
   "outputs": [],
   "source": [
    "import re"
   ]
  },
  {
   "cell_type": "markdown",
   "metadata": {},
   "source": [
    "# re.findall()\n",
    "### Find out the name and age of a person from the sample string :"
   ]
  },
  {
   "cell_type": "code",
   "execution_count": null,
   "metadata": {},
   "outputs": [],
   "source": [
    "NameAge = '''hello Siddharth is 21 \n",
    "and Shravan is 40\n",
    "Mahesh is 25 and Ravi is 30 R\n",
    "'''\n",
    "\n",
    "name = re.findall('[A-Z][a-z]+', NameAge)\n",
    "age = re.findall('\\d{1,3}', NameAge)\n",
    "print(name, age)\n",
    "print()\n",
    "print(\"The proper output is given below : \")\n",
    "for i in zip(name, age):\n",
    "    print(i)"
   ]
  },
  {
   "cell_type": "markdown",
   "metadata": {},
   "source": [
    "### NOTE : \n",
    "#### If the pattern is not found **re.findall** returns an empty list.\n"
   ]
  },
  {
   "cell_type": "markdown",
   "metadata": {},
   "source": [
    "# re.search()\n",
    "### Search a pattern from the test string:"
   ]
  },
  {
   "cell_type": "code",
   "execution_count": null,
   "metadata": {},
   "outputs": [],
   "source": []
  },
  {
   "cell_type": "markdown",
   "metadata": {},
   "source": [
    "### Find out the username and host name from given gmail id :\n"
   ]
  },
  {
   "cell_type": "markdown",
   "metadata": {},
   "source": [
    "### Grouping in RegEx\n",
    "\n",
    "The group feature of regular expression allows you to pick up parts of the matching text. Parts of a regular expression pattern bounded by parenthesis () are called groups. The parenthesis does not change what the expression matches, but rather forms groups within the matched sequence. "
   ]
  },
  {
   "cell_type": "code",
   "execution_count": null,
   "metadata": {},
   "outputs": [],
   "source": [
    "statement = 'Please contact us at: askjojo@gmail.com'\n",
    "\n",
    "match = re.findall(r'(?P<email>(?P<username>[\\w\\.-]+)@(?P<host>[\\w\\.-]+))', statement)\n",
    "# if statement:\n",
    "#     print(\"Email address:\", match.group('email'))\n",
    "#     print(\"Username:\", match.group('username'))\n",
    "#     print(\"Host:\", match.group('host'))\n",
    "match"
   ]
  },
  {
   "cell_type": "markdown",
   "metadata": {},
   "source": []
  },
  {
   "cell_type": "code",
   "execution_count": null,
   "metadata": {},
   "outputs": [],
   "source": [
    "mystr = \"rat, hat, mat, cat, chat\"\n",
    "myst = re.findall('[a-z]at', mystr)\n",
    "print(myst)"
   ]
  },
  {
   "cell_type": "code",
   "execution_count": null,
   "metadata": {},
   "outputs": [],
   "source": [
    "mystr = \"rat, hat, mat, cat, chat, dog, at, pack\"\n",
    "myst = re.findall('[a-z]*t', mystr)\n",
    "print(myst)"
   ]
  },
  {
   "cell_type": "code",
   "execution_count": null,
   "metadata": {},
   "outputs": [],
   "source": [
    "mystr = \"rat, hat, mat, cat, chat, dog, at, pack\"\n",
    "myst = re.findall('.*k$', mystr)\n",
    "print(myst)"
   ]
  },
  {
   "cell_type": "code",
   "execution_count": null,
   "metadata": {},
   "outputs": [],
   "source": [
    "#replace a string\n",
    "mystr = \"there is a tower issue\"\n",
    "\n",
    "alstr = re.compile('tower')\n",
    "myst = alstr.sub('network', mystr)\n",
    "print(myst)\n"
   ]
  },
  {
   "cell_type": "code",
   "execution_count": null,
   "metadata": {},
   "outputs": [],
   "source": [
    "# how to deal with white spaces\n",
    "\n",
    "randstr = '''\n",
    "keep the Indian     \n",
    "flag flying high\n",
    "'''\n",
    "print(randstr)\n",
    "\n",
    "a = re.compile('\\n')\n",
    "b = a.sub(\"\", randstr)\n",
    "print(b)"
   ]
  },
  {
   "cell_type": "code",
   "execution_count": null,
   "metadata": {},
   "outputs": [],
   "source": [
    "teststring = \"abc 12\\d23 \\n f456\"\n",
    "pattern = '\\s+'\n",
    "replace = \"\"\n",
    "op = re.sub(pattern, replace, teststring)\n",
    "print(op)"
   ]
  },
  {
   "cell_type": "code",
   "execution_count": null,
   "metadata": {},
   "outputs": [],
   "source": [
    "teststring = 'Shravan 40,Srinivas 60'\n",
    "op = re.split(',', teststring)\n",
    "print(op)"
   ]
  },
  {
   "cell_type": "code",
   "execution_count": null,
   "metadata": {},
   "outputs": [],
   "source": [
    "# match a single character\n",
    "\n",
    "rand = '4512322222'\n",
    "print('Matches:', len(re.findall('2', rand)))"
   ]
  },
  {
   "cell_type": "code",
   "execution_count": null,
   "metadata": {},
   "outputs": [],
   "source": [
    "rand2 = '123 1234 112345 123456 1234567 12345678'\n",
    "print(\"MAtches:\", len(re.findall('\\d{5,8}', rand2)))"
   ]
  },
  {
   "cell_type": "code",
   "execution_count": null,
   "metadata": {},
   "outputs": [],
   "source": [
    "mobileNum = \"123456 0189342908  0123345678910\"\n",
    "validNum = re.search('\\d{10}', mobileNum)\n",
    "print(validNum)"
   ]
  },
  {
   "cell_type": "code",
   "execution_count": null,
   "metadata": {},
   "outputs": [],
   "source": [
    "op = re.split('\\s+', mobileNum)\n",
    "for num in op:\n",
    "    if len(num) == 10:\n",
    "        print(f\"valid number is : {num}\")"
   ]
  },
  {
   "cell_type": "code",
   "execution_count": null,
   "metadata": {},
   "outputs": [],
   "source": [
    "a = 'a b c  d'\n",
    "op1 = re.split(' ', a)\n",
    "print(op1)"
   ]
  },
  {
   "cell_type": "code",
   "execution_count": null,
   "metadata": {},
   "outputs": [],
   "source": []
  },
  {
   "cell_type": "code",
   "execution_count": null,
   "metadata": {},
   "outputs": [],
   "source": []
  },
  {
   "cell_type": "code",
   "execution_count": null,
   "metadata": {},
   "outputs": [],
   "source": []
  },
  {
   "cell_type": "code",
   "execution_count": null,
   "metadata": {},
   "outputs": [],
   "source": []
  },
  {
   "cell_type": "code",
   "execution_count": null,
   "metadata": {},
   "outputs": [],
   "source": [
    "phone = input(\"Enter your phone number:\")\n",
    "\n",
    "if re.search(\"\\d{3}-\\d{3}-\\d{4}\", phone):\n",
    "    print(phone, \"is a valid phone number\")\n",
    "else:\n",
    "    print(phone, \"is not a valid phone number\")"
   ]
  },
  {
   "cell_type": "code",
   "execution_count": null,
   "metadata": {},
   "outputs": [],
   "source": [
    "email = 'Bhupendra234@gmail.co'\n",
    "if re.search('\\w{2,20}@\\w{3,15}.a-z{2,3}',email):\n",
    "    print(email, \"is a valid email id\")\n",
    "else:\n",
    "    print(email, \"is not a valid email id\")"
   ]
  },
  {
   "cell_type": "code",
   "execution_count": null,
   "metadata": {},
   "outputs": [],
   "source": [
    "mails = 'pk@gmail.com md@aon.com raka@seo.com @mail.com dc@com'\n",
    "\n",
    "print('EmailMatches:', len(re.findall('[\\w]{2,10}@[\\w]{1-5}.a-z{2,3}' , mails)))"
   ]
  },
  {
   "cell_type": "markdown",
   "metadata": {},
   "source": [
    "## Read the phone number from the given url :\n",
    "\n",
    "\"https://www.summet.com/dmsi/html/codesamples/addresses.html\""
   ]
  },
  {
   "cell_type": "code",
   "execution_count": null,
   "metadata": {},
   "outputs": [],
   "source": []
  },
  {
   "cell_type": "code",
   "execution_count": null,
   "metadata": {},
   "outputs": [],
   "source": []
  },
  {
   "cell_type": "code",
   "execution_count": null,
   "metadata": {},
   "outputs": [],
   "source": []
  },
  {
   "cell_type": "code",
   "execution_count": null,
   "metadata": {},
   "outputs": [],
   "source": []
  }
 ],
 "metadata": {
  "kernelspec": {
   "display_name": "Python 3",
   "language": "python",
   "name": "python3"
  },
  "language_info": {
   "codemirror_mode": {
    "name": "ipython",
    "version": 3
   },
   "file_extension": ".py",
   "mimetype": "text/x-python",
   "name": "python",
   "nbconvert_exporter": "python",
   "pygments_lexer": "ipython3",
   "version": "3.7.6"
  }
 },
 "nbformat": 4,
 "nbformat_minor": 4
}
