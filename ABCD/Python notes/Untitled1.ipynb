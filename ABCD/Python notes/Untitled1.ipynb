{
 "cells": [
  {
   "cell_type": "code",
   "execution_count": 1,
   "id": "b35992e2",
   "metadata": {},
   "outputs": [],
   "source": [
    "# reading the html"
   ]
  },
  {
   "cell_type": "code",
   "execution_count": 2,
   "id": "c062d1d0",
   "metadata": {},
   "outputs": [],
   "source": [
    "import requests\n",
    "from bs4 import BeautifulSoup\n",
    "read = requests.get('https://en.wikipedia.org/wiki/Main_Page')\n",
    "htmlcontent  = read.content "
   ]
  },
  {
   "cell_type": "code",
   "execution_count": 4,
   "id": "259fd4b6",
   "metadata": {},
   "outputs": [
    {
     "ename": "AttributeError",
     "evalue": "'bytes' object has no attribute 'prettify'",
     "output_type": "error",
     "traceback": [
      "\u001b[1;31m---------------------------------------------------------------------------\u001b[0m",
      "\u001b[1;31mAttributeError\u001b[0m                            Traceback (most recent call last)",
      "Input \u001b[1;32mIn [4]\u001b[0m, in \u001b[0;36m<cell line: 1>\u001b[1;34m()\u001b[0m\n\u001b[1;32m----> 1\u001b[0m \u001b[43mhtmlcontent\u001b[49m\u001b[38;5;241;43m.\u001b[39;49m\u001b[43mprettify\u001b[49m\n",
      "\u001b[1;31mAttributeError\u001b[0m: 'bytes' object has no attribute 'prettify'"
     ]
    }
   ],
   "source": []
  },
  {
   "cell_type": "code",
   "execution_count": 5,
   "id": "4ba9131d",
   "metadata": {},
   "outputs": [],
   "source": [
    "# parse the content \n"
   ]
  },
  {
   "cell_type": "code",
   "execution_count": 6,
   "id": "580df8c8",
   "metadata": {},
   "outputs": [],
   "source": [
    "soup = BeautifulSoup(htmlcontent,'html.parser')"
   ]
  },
  {
   "cell_type": "code",
   "execution_count": null,
   "id": "b2e434d7",
   "metadata": {},
   "outputs": [],
   "source": []
  },
  {
   "cell_type": "code",
   "execution_count": 16,
   "id": "00754737",
   "metadata": {},
   "outputs": [
    {
     "data": {
      "text/plain": [
       "'Wikipedia, the free encyclopedia'"
      ]
     },
     "execution_count": 16,
     "metadata": {},
     "output_type": "execute_result"
    }
   ],
   "source": [
    "#using title to get the title of the html page\n"
   ]
  },
  {
   "cell_type": "code",
   "execution_count": null,
   "id": "48aff23d",
   "metadata": {},
   "outputs": [],
   "source": []
  },
  {
   "cell_type": "code",
   "execution_count": 24,
   "id": "3a0aacac",
   "metadata": {},
   "outputs": [
    {
     "data": {
      "text/plain": [
       "'The royal necropolis of Byblos is a group of nine Bronze Age underground shaft and chamber tombs housing the sarcophagi of several kings of the city. The site of Byblos (ruins pictured) was rediscovered in the late 19th century by  French scholar Ernest Renan near modern Jbeil, Lebanon. Byblos traded with Egypt during the Bronze Age; this influence was shown in excavated reliefs bearing Egyptian hieroglyphs. In 1922, heavy rains triggered a landslide exposing an underground tomb containing a massive stone sarcophagus. The grave was explored by archaeologist Charles Virolleaud and Egyptologist Pierre Montet, who unearthed eight more  tombs. The earliest tombs dated back to the 19th century BC; some were unspoiled, and contained royal gifts from pharaohs Amenemhat\\xa0III and Amenemhat\\xa0IV. The more recent graves, some from the Late Bronze Age, were robbed in antiquity. Seven stone sarcophagi were discovered, all undecorated except the Ahiram sarcophagus, famed for its Phoenician inscription. (Full\\xa0article...)\\n'"
      ]
     },
     "execution_count": 24,
     "metadata": {},
     "output_type": "execute_result"
    }
   ],
   "source": []
  },
  {
   "cell_type": "code",
   "execution_count": null,
   "id": "e9933a22",
   "metadata": {},
   "outputs": [],
   "source": []
  }
 ],
 "metadata": {
  "kernelspec": {
   "display_name": "Python 3 (ipykernel)",
   "language": "python",
   "name": "python3"
  },
  "language_info": {
   "codemirror_mode": {
    "name": "ipython",
    "version": 3
   },
   "file_extension": ".py",
   "mimetype": "text/x-python",
   "name": "python",
   "nbconvert_exporter": "python",
   "pygments_lexer": "ipython3",
   "version": "3.9.12"
  }
 },
 "nbformat": 4,
 "nbformat_minor": 5
}
