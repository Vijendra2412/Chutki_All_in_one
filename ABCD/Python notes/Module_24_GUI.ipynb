{
 "cells": [
  {
   "cell_type": "markdown",
   "metadata": {},
   "source": [
    "# Python GUI"
   ]
  },
  {
   "cell_type": "markdown",
   "metadata": {},
   "source": [
    "Python provides various options for developing GUI:<br>\n",
    "\n",
    "**Tkinter:**  Tkinter is the Python interface to the Tk GUI toolkit shipped with Python. We would look this option in this chapter.<br>\n",
    "\n",
    "**wxPython:** This is an open-source Python interface for wxWindows http://wxpython.org<br>\n",
    "\n",
    "**JPython:** JPython is a Python port for Java which gives Python scripts seamless access to Java class libraries on the local machine http://www.jython.org"
   ]
  },
  {
   "cell_type": "markdown",
   "metadata": {},
   "source": [
    "# Tkinter Programming"
   ]
  },
  {
   "cell_type": "markdown",
   "metadata": {},
   "source": [
    "Tkinter is the **standard GUI library for Python**. Python when combined with Tkinter provides a fast and easy way to create GUI applications. Tkinter provides a **powerful object-oriented interface to the Tk GUI toolkit**.\n",
    "\n",
    "Creating a GUI application using Tkinter is an easy task. All you need to do is perform the following steps −\n",
    "\n",
    "1. Import the **Tkinter module**.\n",
    "\n",
    "2. Create the GUI application **main window**.\n",
    "\n",
    "3. **Add widgets** to the GUI application.\n",
    "\n",
    "4. Enter the **main event loop** to take action against each event triggered by the user."
   ]
  },
  {
   "cell_type": "code",
   "execution_count": 1,
   "metadata": {},
   "outputs": [],
   "source": [
    "import tkinter as tk  # type \"tkinter\" for python version 3.X and \"Tkinter for version 2.X\""
   ]
  },
  {
   "cell_type": "markdown",
   "metadata": {},
   "source": [
    "There are **two main methods*** used which the user needs to remember while creating the Python application with GUI:\n",
    "1. **Tk()**\n",
    "    Tkinter offers a method Tk() to create main window. <br>\n",
    "    \n",
    "    **Tk(screenName=None,  baseName=None,  className=’Tk’,  useTk=1):** <br>\n",
    "    \n",
    "    \n",
    "2. **mainloop()**\n",
    "    method is used when your application is ready to run. **mainloop() is an infinite loop used to run the application**, wait for an event to occur and process the event as long as the window is not closed."
   ]
  },
  {
   "cell_type": "code",
   "execution_count": 7,
   "metadata": {},
   "outputs": [],
   "source": [
    "window = tk.Tk()  # where 'window' is the name of the main window object\n",
    "\n",
    "# ...... \n",
    "# widgets will go here\n",
    "# ....\n",
    "window.mainloop()"
   ]
  },
  {
   "cell_type": "markdown",
   "metadata": {},
   "source": [
    "Tkinter also offers access to the geometric configuration of the widgets which can organize the widgets in the parent windows. There are mainly three geometry manager classes class.\n",
    "\n",
    "1. **pack()**:It organizes the widgets in blocks before placing in the parent widget. It occupies the whole width of the widget.\n",
    "    \n",
    "2. **grid()**:It organizes the widgets in grid (table-like structure) before placing in the parent widget.\n",
    "    \n",
    "3. **place()**:It organizes the widgets by placing them on specific positions directed by the programmer.<br>\n",
    "\n",
    "There are a number of widgets which you can put in your tkinter application. Some of the major widgets are explained below:\n",
    "\n"
   ]
  },
  {
   "cell_type": "markdown",
   "metadata": {},
   "source": [
    "## 1. Button<br>\n",
    "    w=Button(master, option=value)\n",
    "        master represents the parent window.\n",
    "        \n",
    "Number of options can be passed as parameters separated by commas. Some of them are listed below.\n",
    "\n",
    "**activebackground**: to set the background color when button is under the cursor.<br>\n",
    "**activeforeground**: to set the foreground color when button is under the cursor.<br>\n",
    "**bg**: to set he normal background color.<br>\n",
    "**command**: to call a function.<br>\n",
    "**font**: to set the font on the button label.<br>\n",
    "**image**: to set the image on the button.<br>\n",
    "**width**: to set the width of the button.<br>\n",
    "**height**: to set the height of the button."
   ]
  },
  {
   "cell_type": "code",
   "execution_count": 16,
   "metadata": {},
   "outputs": [],
   "source": [
    "window = tk.Tk()   #create a new window object\n",
    "window.title(\"Jojo's Window\")   #title your page\n",
    "#create a button using the Button()  function inbuilt in tkinter library\n",
    "\n",
    "button = tk.Button(window, text =\"Exit Now\", command = window.destroy, activebackground = '#34ebde')\n",
    "\n",
    "button.pack()    #tkinter geometry is of pack type\n",
    "window.mainloop()  #run my window"
   ]
  },
  {
   "cell_type": "markdown",
   "metadata": {},
   "source": [
    "# 2. Message Box"
   ]
  },
  {
   "cell_type": "code",
   "execution_count": 20,
   "metadata": {},
   "outputs": [],
   "source": [
    "import tkinter"
   ]
  },
  {
   "cell_type": "code",
   "execution_count": null,
   "metadata": {},
   "outputs": [],
   "source": []
  },
  {
   "cell_type": "code",
   "execution_count": 30,
   "metadata": {},
   "outputs": [],
   "source": [
    "# window = tkinter.Tk()\n",
    "# def myfun():\n",
    "#     tkinter.messagebox.showinfo(\"Hello\",'World')\n",
    "    \n",
    "# bt = tkinter.Button(window, text=\"Click\", command = myfun)\n",
    "# bt.pack()\n",
    "# window.mainloop()"
   ]
  },
  {
   "cell_type": "code",
   "execution_count": 31,
   "metadata": {},
   "outputs": [],
   "source": [
    "window = tk.Tk()\n",
    "\n",
    "#m.title() \n",
    "\n",
    "from tkinter import messagebox    #import messagebox before using the function of messagebox\n",
    "def helloCallBack():\n",
    "    messagebox.showinfo(\"Hello People\",\"Hello World is the message\")   #'Hello People' will be the title of our new window & 'Hello World' will the message.\n",
    "\n",
    "B = tk.Button(window, text =\"Click Me\", command = helloCallBack)   #use command parameter to callback the funtion by its name\n",
    "\n",
    "B.pack()     \n",
    "window.mainloop()"
   ]
  },
  {
   "cell_type": "markdown",
   "metadata": {},
   "source": [
    "# 3. Canvas"
   ]
  },
  {
   "cell_type": "markdown",
   "metadata": {},
   "source": [
    "It is used to draw pictures and other complex layout like graphics, text and widgets.<br>\n",
    "\n",
    "The general syntax is:<br>\n",
    "-    ***w = Canvas(master, option=value)***<br>\n",
    "master is the parameter used to represent the parent window.<br>\n",
    "\n",
    "There are number of options which are used to change the format of the widget. Number of options can be passed as parameters separated by commas. Some of them are listed below.\n",
    "\n",
    "**bd:** to set the border width in pixels.<br>\n",
    "**bg:** to set the normal background color.<br>\n",
    "**cursor:** to set the cursor used in the canvas.<br>\n",
    "**highlightcolor:** to set the color shown in the focus highlight.<br>\n",
    "**width:** to set the width of the widget.<br>\n",
    "**height:** to set the height of the widget."
   ]
  },
  {
   "cell_type": "code",
   "execution_count": 43,
   "metadata": {},
   "outputs": [],
   "source": [
    "from tkinter import *    #use \" import * \" to import all the modules & functions at once. Write this line at the beginning.\n",
    "\n",
    "window = tk.Tk()\n",
    "w = Canvas(window, width=200, height=60)\n",
    "w.pack()    #pack the elements drawn on canvas\n",
    "canvas_height=20\n",
    "canvas_width=200\n",
    "y = int(canvas_height / 2)\n",
    "w.create_line(0, y, canvas_width, y,fill=\"red\" )    #use the \"create_line\" function which is in the Canvas module\n",
    "mainloop()"
   ]
  },
  {
   "cell_type": "markdown",
   "metadata": {},
   "source": [
    "## 4. Checkbutton"
   ]
  },
  {
   "cell_type": "code",
   "execution_count": 56,
   "metadata": {},
   "outputs": [],
   "source": [
    "window = Tk()\n",
    "\n",
    "var1 = IntVar()\n",
    "Checkbutton(window, text='male', variable=var1).grid(row=0,column =0,padx =100, sticky='n')    #print the checkbutton in first row, i.e., row = 0\n",
    "\n",
    "var2 = IntVar()\n",
    "Checkbutton(window, text='female', variable=var2).grid(row=0, column = 1,padx = 100,sticky='n')   #print the checkbutton in second row i.e., row = 1\n",
    "mainloop()"
   ]
  },
  {
   "cell_type": "markdown",
   "metadata": {},
   "source": [
    "## 5. Create rectangles inside a Canvas"
   ]
  },
  {
   "cell_type": "code",
   "execution_count": 58,
   "metadata": {},
   "outputs": [],
   "source": [
    "window = Tk()\n",
    "\n",
    "w = Canvas(window, width=200, height=100)\n",
    "w.pack()\n",
    "\n",
    "w.create_rectangle(50, 20, 150, 80, fill=\"#c2f0ce\")\n",
    "w.create_rectangle(65, 35, 135, 65, fill=\"yellow\")\n",
    "\n",
    "# w.create_line(0, 0, 50, 20, fill=\"#476042\", width=3)\n",
    "# w.create_line(0, 100, 50, 80, fill=\"#476042\", width=3)\n",
    "# w.create_line(150,20, 200, 0, fill=\"#476042\", width=3)\n",
    "# w.create_line(150, 80, 200, 100, fill=\"#476042\", width=3)\n",
    "\n",
    "mainloop()"
   ]
  },
  {
   "cell_type": "markdown",
   "metadata": {},
   "source": [
    "## 6. Entry Form"
   ]
  },
  {
   "cell_type": "code",
   "execution_count": 66,
   "metadata": {},
   "outputs": [],
   "source": [
    "window = Tk()\n",
    "Label(window, text='First Name').grid(row=0)\n",
    "Label(window, text='Last Name').grid(row=1)\n",
    "\n",
    "e1 = Entry(window)\n",
    "e2 = Entry(window)\n",
    "\n",
    "e1.grid(row=0, column=1)\n",
    "e2.grid(row=1, column=1)\n",
    "mainloop()"
   ]
  },
  {
   "cell_type": "markdown",
   "metadata": {},
   "source": [
    "You can practice more on Python GUI from the given link.<br>\n",
    "\n",
    "https://www.geeksforgeeks.org/python-gui-tkinter/\n"
   ]
  },
  {
   "cell_type": "code",
   "execution_count": 75,
   "metadata": {},
   "outputs": [],
   "source": [
    "window = Tk()\n",
    "L1 = Label(window, text='TechVidya', font=('Aerial Bold',50))   #'Times'\n",
    "window.geometry('1000x500')\n",
    "L1.grid(column=0, row =0)\n",
    "window.mainloop()"
   ]
  },
  {
   "cell_type": "code",
   "execution_count": 36,
   "metadata": {},
   "outputs": [],
   "source": [
    "window = Tk()\n",
    "L1 = Label(window, text='TechVidya', font=('Aerial Bold',10))\n",
    "bt = Button(window, text = 'Enter', bg = 'yellow', fg = 'red')\n",
    "L1.grid(column=0, row =0)\n",
    "bt.grid(column=1, row =0)\n",
    "window.mainloop()"
   ]
  },
  {
   "cell_type": "code",
   "execution_count": 77,
   "metadata": {},
   "outputs": [],
   "source": [
    "window = Tk()\n",
    "L1 = Label(window, text=\"Enter something\", font=('Aerial Bold',30))\n",
    "L1.grid(column=0, row =0)\n",
    "txt = Entry(window, width=40)\n",
    "txt.grid(column=1,row=0)\n",
    "\n",
    "def clicked():\n",
    "    res = \"Welcome to\"+txt.get()\n",
    "    L1.configure(text = res)\n",
    "bt = Button(window, text = \"Enter ME\", command = clicked)\n",
    "bt.grid(column=2,row=0)\n",
    "\n",
    "mainloop()"
   ]
  },
  {
   "cell_type": "code",
   "execution_count": null,
   "metadata": {},
   "outputs": [],
   "source": [
    "from tkinter.ttk import *\n",
    "window = Tk()\n",
    "combo = Combobox(window)       \n",
    "combo['values'] = (1,2,3,4,5,'Text')    #adding the combobox items using the tuples\n",
    "combo.current(2)                        #setting the selected item\n",
    "combo.grid(column=0, row=0)\n",
    "mainloop()"
   ]
  },
  {
   "cell_type": "code",
   "execution_count": null,
   "metadata": {},
   "outputs": [],
   "source": []
  }
 ],
 "metadata": {
  "kernelspec": {
   "display_name": "Python 3",
   "language": "python",
   "name": "python3"
  },
  "language_info": {
   "codemirror_mode": {
    "name": "ipython",
    "version": 3
   },
   "file_extension": ".py",
   "mimetype": "text/x-python",
   "name": "python",
   "nbconvert_exporter": "python",
   "pygments_lexer": "ipython3",
   "version": "3.7.6"
  }
 },
 "nbformat": 4,
 "nbformat_minor": 4
}
