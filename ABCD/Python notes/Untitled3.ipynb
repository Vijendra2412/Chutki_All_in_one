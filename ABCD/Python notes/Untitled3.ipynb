{
 "cells": [
  {
   "cell_type": "code",
   "execution_count": 1,
   "id": "a8e1e067",
   "metadata": {},
   "outputs": [],
   "source": [
    "class A:\n",
    "    x = 10\n",
    "    def __init__(self,y,z):\n",
    "        self.y = y\n",
    "        self.z = z\n",
    "        \n",
    "    def update(self):             # isntance method\n",
    "        self.y = self.y*self.x\n",
    "        self.z = self.z*self.x\n",
    "        self.x = self.x + 10\n",
    "    @classmethod                    \n",
    "    def clsmethod(cls):                   # class method\n",
    "        cls.x = 20\n",
    "        cls.y = 12\n",
    "        cls.z = 13\n",
    "        \n",
    "    @staticmethod\n",
    "    def statmethod():                     # static method\n",
    "        print('This is a ststic method')\n",
    "        print(x)"
   ]
  },
  {
   "cell_type": "code",
   "execution_count": 3,
   "id": "efe31db0",
   "metadata": {},
   "outputs": [],
   "source": [
    "a1 = A(1,2)"
   ]
  },
  {
   "cell_type": "code",
   "execution_count": 5,
   "id": "9c81e01b",
   "metadata": {},
   "outputs": [
    {
     "data": {
      "text/plain": [
       "1"
      ]
     },
     "execution_count": 5,
     "metadata": {},
     "output_type": "execute_result"
    }
   ],
   "source": [
    "a1.y"
   ]
  },
  {
   "cell_type": "code",
   "execution_count": 9,
   "id": "6f060b3e",
   "metadata": {},
   "outputs": [],
   "source": [
    "A.clsmethod()"
   ]
  },
  {
   "cell_type": "code",
   "execution_count": 10,
   "id": "84f34f73",
   "metadata": {},
   "outputs": [
    {
     "data": {
      "text/plain": [
       "1"
      ]
     },
     "execution_count": 10,
     "metadata": {},
     "output_type": "execute_result"
    }
   ],
   "source": [
    "a1.y"
   ]
  },
  {
   "cell_type": "code",
   "execution_count": 13,
   "id": "95cba7ad",
   "metadata": {},
   "outputs": [
    {
     "name": "stdout",
     "output_type": "stream",
     "text": [
      "12\n",
      "7\n",
      "14\n",
      "20 20\n"
     ]
    }
   ],
   "source": [
    "class A:\n",
    "    x = 10\n",
    "    def __init__(self,y,z):\n",
    "        self.y = y\n",
    "        self.z = z\n",
    "        \n",
    "    def update(self):             # isntance method\n",
    "        self.y = self.y*self.x\n",
    "        self.z = self.z*self.x\n",
    "        self.x = self.x + 10\n",
    "    @classmethod                    \n",
    "    def clsmethod(cls):                   # class method\n",
    "        cls.x = 20\n",
    "        cls.y = 12\n",
    "        cls.z = 13\n",
    "        \n",
    "    @staticmethod\n",
    "    def statmethod():                     # static method\n",
    "        print(\"This is a ststi'c method\")\n",
    "        print(x)\n",
    "        \n",
    "        \n",
    "a1 = A(2,3)\n",
    "a2 = A(4,5)\n",
    "\n",
    "print(a1.x + a1.y)\n",
    "print(a1.y + a2.z)\n",
    "print(a2.x + a2.y)\n",
    "\n",
    "a1.clsmethod()\n",
    "print(a1.x,a2.x)"
   ]
  },
  {
   "cell_type": "code",
   "execution_count": null,
   "id": "18f4d451",
   "metadata": {},
   "outputs": [],
   "source": [
    "print()"
   ]
  }
 ],
 "metadata": {
  "kernelspec": {
   "display_name": "Python 3 (ipykernel)",
   "language": "python",
   "name": "python3"
  },
  "language_info": {
   "codemirror_mode": {
    "name": "ipython",
    "version": 3
   },
   "file_extension": ".py",
   "mimetype": "text/x-python",
   "name": "python",
   "nbconvert_exporter": "python",
   "pygments_lexer": "ipython3",
   "version": "3.9.12"
  }
 },
 "nbformat": 4,
 "nbformat_minor": 5
}
