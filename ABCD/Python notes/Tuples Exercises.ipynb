{
 "cells": [
  {
   "cell_type": "markdown",
   "metadata": {},
   "source": [
    "# Tuples Exercises"
   ]
  },
  {
   "cell_type": "markdown",
   "metadata": {},
   "source": [
    "1. Join Tuples if similar initial elements <br>\n",
    "    Input : test_list = [(5, 6), (5, 7), (5, 8), (6, 10), (7, 13)]<br>\n",
    "    Output : [(5, 6, 7, 8), (6, 10), (7, 13)]"
   ]
  },
  {
   "cell_type": "code",
   "execution_count": null,
   "metadata": {},
   "outputs": [],
   "source": []
  },
  {
   "cell_type": "markdown",
   "metadata": {},
   "source": [
    "2. Suppose t = (1, 2, 4, 3), which of the following is incorrect? <br>\n",
    "a) print(t[3])<br>\n",
    "b) t[3] = 45<br>\n",
    "c) print(max(t))<br>\n",
    "d) print(len(t))<br>"
   ]
  },
  {
   "cell_type": "code",
   "execution_count": null,
   "metadata": {},
   "outputs": [],
   "source": []
  },
  {
   "cell_type": "markdown",
   "metadata": {},
   "source": [
    "3. What will be the output of the following Python code?<br>\n",
    "\n",
    "    t = (1, 2, 4, 3, 8, 9)<br>\n",
    "    [ t [i] for i in range(0, len(t), 2)]<br>"
   ]
  },
  {
   "cell_type": "code",
   "execution_count": null,
   "metadata": {},
   "outputs": [],
   "source": []
  },
  {
   "cell_type": "markdown",
   "metadata": {},
   "source": [
    "4. What will be the output of the following Python code?<br>\n",
    "\n",
    "    t = (1, 2)<br>\n",
    "    2 * t<br>"
   ]
  },
  {
   "cell_type": "code",
   "execution_count": null,
   "metadata": {},
   "outputs": [],
   "source": []
  },
  {
   "cell_type": "markdown",
   "metadata": {},
   "source": [
    "5. What will be the output of the following Python code?<br>\n",
    "    numberGames = { }<br>\n",
    "    numberGames[(1,2,4)] = 8<br>\n",
    "    numberGames[(4,2,1)] = 10<br>\n",
    "    numberGames[(1,2)] = 12<br>\n",
    "    sum = 0<br>\n",
    "    for k in numberGames:<br>\n",
    "        sum += numberGames[k] <br>\n",
    "    print(len(numberGames) + sum)<br>"
   ]
  },
  {
   "cell_type": "code",
   "execution_count": null,
   "metadata": {},
   "outputs": [],
   "source": []
  },
  {
   "cell_type": "markdown",
   "metadata": {},
   "source": [
    "6. Given a list of numbers of list, write a Python program to create a list of tuples having first element as the number and second element as the cube of the number.<br>\n",
    "    Input: list = [1, 2, 3]<br>\n",
    "    Output: [(1, 1), (2, 8), (3, 27)]<br>    "
   ]
  },
  {
   "cell_type": "code",
   "execution_count": null,
   "metadata": {},
   "outputs": [],
   "source": []
  },
  {
   "cell_type": "markdown",
   "metadata": {},
   "source": [
    "7. Create a modulo(%) of tuples and store the output in a new tuple variable and print the output. <br>\n",
    "    mytup1 = (10,4,5,17)<br>\n",
    "    mytup2 = (5, 6, 7, 5)<br>\n",
    "    \n",
    "    output = (0,4,5,2)"
   ]
  },
  {
   "cell_type": "code",
   "execution_count": 1,
   "metadata": {},
   "outputs": [],
   "source": [
    "# using the loop method\n",
    "\n",
    "\n"
   ]
  },
  {
   "cell_type": "code",
   "execution_count": 2,
   "metadata": {},
   "outputs": [],
   "source": [
    "# using the zip method\n",
    "\n",
    "\n",
    "\n"
   ]
  },
  {
   "cell_type": "markdown",
   "metadata": {},
   "source": [
    "8. Sometimes, while working with Python tuples, we can have a problem in which we need to perform Row-wise custom elements addition in Tuple matrix. This kind of problem can have application in data domains. Let’s solve the below problem ti understand how this can be achieved.<br>\n",
    "\n",
    "    Input :<br>\n",
    "    inp1 = [[(‘ok’, 3)], [(‘bye’, 1)]]<br>\n",
    "    inp2 = [1, 2]<br>\n",
    "\n",
    "    Output : [[(‘ok’, 3, 1)], [(‘bye’, 1, 2)]]<br>"
   ]
  },
  {
   "cell_type": "code",
   "execution_count": null,
   "metadata": {},
   "outputs": [],
   "source": []
  },
  {
   "cell_type": "markdown",
   "metadata": {},
   "source": [
    "9. Flatten tuples list to string:<br>\n",
    "       Input: \n",
    "           test_list = [('1', '4', '6'), ('5', '8'), ('2', '9'), ('1', '10')]\n",
    "       Output:\n",
    "            1 4 6 5 8 2 9 1 10"
   ]
  },
  {
   "cell_type": "code",
   "execution_count": null,
   "metadata": {},
   "outputs": [],
   "source": []
  },
  {
   "cell_type": "markdown",
   "metadata": {},
   "source": [
    "10. Sort by frequency of second element in Tuple list.<br>\n",
    "\n",
    "    Input : test_list = [(6, 5), (1, 7), (2, 5), (8, 7), (9, 8), (3, 7)]<br>\n",
    "    Output : [(1, 7), (8, 7), (3, 7), (6, 5), (2, 5), (9, 8)]<br>\n",
    "    Explanation : 7 occurs 3 times as 2nd element, hence all tuples with 7, are aligned first.<br>\n",
    "\n",
    "    Input : test_list = [(1, 7), (8, 7), (9, 8), (3, 7)]<br>\n",
    "    Output : [(1, 7), (8, 7), (3, 7), (9, 8)]<br>\n",
    "    Explanation : 7 occurs 3 times as 2nd element, hence all tuples with 7, are aligned first.<br>"
   ]
  },
  {
   "cell_type": "code",
   "execution_count": null,
   "metadata": {},
   "outputs": [],
   "source": []
  },
  {
   "cell_type": "markdown",
   "metadata": {},
   "source": [
    "### Lets see the memory size required by the lists, tuple, set and dictionaries to store the same values:"
   ]
  },
  {
   "cell_type": "code",
   "execution_count": 3,
   "metadata": {},
   "outputs": [],
   "source": [
    "l = [1,2,3]\n",
    "t = (1,2,3)\n",
    "s = {1,2,3}\n",
    "d = {'1':1, '2':2,'3':3}"
   ]
  },
  {
   "cell_type": "code",
   "execution_count": 4,
   "metadata": {},
   "outputs": [
    {
     "name": "stdout",
     "output_type": "stream",
     "text": [
      "88 bytes\n",
      "72 bytes\n",
      "224 bytes\n",
      "240 bytes\n"
     ]
    }
   ],
   "source": [
    "import sys\n",
    "print(sys.getsizeof(l), \"bytes\")  \n",
    "print(sys.getsizeof(t),\"bytes\")\n",
    "print(sys.getsizeof(s),\"bytes\")\n",
    "print(sys.getsizeof(d),\"bytes\")"
   ]
  },
  {
   "cell_type": "markdown",
   "metadata": {},
   "source": [
    "What do you understand ?"
   ]
  },
  {
   "cell_type": "markdown",
   "metadata": {},
   "source": []
  },
  {
   "cell_type": "code",
   "execution_count": null,
   "metadata": {},
   "outputs": [],
   "source": []
  }
 ],
 "metadata": {
  "kernelspec": {
   "display_name": "Python 3",
   "language": "python",
   "name": "python3"
  },
  "language_info": {
   "codemirror_mode": {
    "name": "ipython",
    "version": 3
   },
   "file_extension": ".py",
   "mimetype": "text/x-python",
   "name": "python",
   "nbconvert_exporter": "python",
   "pygments_lexer": "ipython3",
   "version": "3.7.6"
  }
 },
 "nbformat": 4,
 "nbformat_minor": 4
}
