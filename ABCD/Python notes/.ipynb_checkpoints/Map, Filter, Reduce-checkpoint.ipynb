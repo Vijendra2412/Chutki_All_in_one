{
 "cells": [
  {
   "cell_type": "markdown",
   "metadata": {},
   "source": [
    "# Problems on Map, Filter, Reduce fucntions"
   ]
  },
  {
   "cell_type": "markdown",
   "metadata": {},
   "source": [
    "Q-1. Reduce the list to concatenate the countries names into  single string variable separated by space(\" \")\n",
    "\n",
    "Input: [\"India\", \"Japan\", \"Italy\", France]\n",
    "\n",
    "output: \"India Japan Italy France\""
   ]
  },
  {
   "cell_type": "code",
   "execution_count": null,
   "metadata": {},
   "outputs": [],
   "source": []
  },
  {
   "cell_type": "markdown",
   "metadata": {},
   "source": [
    "Q-2. Write a function to return the multiples of 3\n",
    "\n",
    "Input: [3,4,5,6,7,8,9]\n",
    "\n",
    "Output: [3,6,9]"
   ]
  },
  {
   "cell_type": "code",
   "execution_count": null,
   "metadata": {},
   "outputs": [],
   "source": []
  },
  {
   "cell_type": "markdown",
   "metadata": {},
   "source": [
    "Q-3. Write a program to count the students above age 18\n",
    "\n",
    "Input: { 1:['sam',15], 2:['sharma',18], 3:['saina',16], 4: ['sanjana',19]}\n",
    "    \n",
    "Output: 1"
   ]
  },
  {
   "cell_type": "code",
   "execution_count": null,
   "metadata": {},
   "outputs": [],
   "source": []
  },
  {
   "cell_type": "markdown",
   "metadata": {},
   "source": [
    "Q-4. Write a program to get the desired o/p:\n",
    "\n",
    "list1 = ['Bhagat', 'Chandrashekhar', 'Maharana', 'Rani']\n",
    "\n",
    "list2 = ['Singh', 'Azad', 'Pratap Singh', 'Laxmibai']\n",
    "\n",
    "Output: ['Bhagat Singh', 'Chandrashekhar Azad', 'Maharana Pratap Singh', 'Rani Laxmibai']"
   ]
  },
  {
   "cell_type": "code",
   "execution_count": null,
   "metadata": {},
   "outputs": [],
   "source": [
    "# 3,5"
   ]
  },
  {
   "cell_type": "markdown",
   "metadata": {},
   "source": [
    "Q-5. Write a program that starts and ends with a certain letter:\n",
    "    \n",
    "Input: ['soap','sharp', 'shy', 'silent', 'summer']\n",
    "\n",
    "o/p: ['soap', 'sharp']"
   ]
  },
  {
   "cell_type": "code",
   "execution_count": null,
   "metadata": {},
   "outputs": [],
   "source": []
  },
  {
   "cell_type": "markdown",
   "metadata": {},
   "source": [
    "Q-6. Create a 3x3 matrix\n",
    "\n",
    "Input: Space separated inputs!<br>\n",
    "1 2 3 <br>\n",
    "2 3 4 <br>\n",
    "3 4 5 <br>\n",
    "\n",
    "output:<br>\n",
    "[[1,2,3],[2,3,4],[3,4,5]]\n"
   ]
  },
  {
   "cell_type": "code",
   "execution_count": null,
   "metadata": {},
   "outputs": [],
   "source": []
  },
  {
   "cell_type": "markdown",
   "metadata": {},
   "source": [
    "Q-7. Print the intersection of two lists:\n",
    "\n",
    "Input:\n",
    "\n",
    "a = [1,2,3,5,7,9]<br>\n",
    "b = [2,3,5,6,7,8]<br>\n",
    "\n",
    "Output:\n",
    "\n",
    "[2,3,5,7]"
   ]
  },
  {
   "cell_type": "code",
   "execution_count": null,
   "metadata": {},
   "outputs": [],
   "source": []
  },
  {
   "cell_type": "markdown",
   "metadata": {},
   "source": [
    "Q-8.Concatenate a list of strings to make a sentence:\n",
    "    \n",
    "Input: ['Practice', 'Makes', 'a', 'Man', 'Perfect']\n",
    "\n",
    "Output: 'Practice Makes a Man Perfect'"
   ]
  },
  {
   "cell_type": "code",
   "execution_count": null,
   "metadata": {},
   "outputs": [],
   "source": []
  },
  {
   "cell_type": "markdown",
   "metadata": {},
   "source": [
    "Q-9. Write a program to get a string which has certain word:\n",
    "\n",
    "Input: ['India and France', 'Finland', 'Germany', 'Brazil', 'Ireland']\n",
    "\n",
    "Output: ['India and France', 'Finland','Ireland']"
   ]
  },
  {
   "cell_type": "code",
   "execution_count": null,
   "metadata": {},
   "outputs": [],
   "source": []
  },
  {
   "cell_type": "markdown",
   "metadata": {},
   "source": [
    "# Bonus Question!"
   ]
  },
  {
   "cell_type": "markdown",
   "metadata": {},
   "source": [
    "Q-10. Write a program to  get the following output:\n",
    "    \n",
    "--------e--------<br>\n",
    "------e-d-e------<br>\n",
    "----e-d-c-d-e----<br>\n",
    "--e-d-c-b-c-d-e--<br>\n",
    "e-d-c-b-a-b-c-d-e<br>\n",
    "\n",
    "Double click this cell to view the proper lines and speaces for the pattern."
   ]
  },
  {
   "cell_type": "code",
   "execution_count": null,
   "metadata": {},
   "outputs": [],
   "source": []
  }
 ],
 "metadata": {
  "kernelspec": {
   "display_name": "Python 3 (ipykernel)",
   "language": "python",
   "name": "python3"
  },
  "language_info": {
   "codemirror_mode": {
    "name": "ipython",
    "version": 3
   },
   "file_extension": ".py",
   "mimetype": "text/x-python",
   "name": "python",
   "nbconvert_exporter": "python",
   "pygments_lexer": "ipython3",
   "version": "3.9.12"
  }
 },
 "nbformat": 4,
 "nbformat_minor": 4
}
