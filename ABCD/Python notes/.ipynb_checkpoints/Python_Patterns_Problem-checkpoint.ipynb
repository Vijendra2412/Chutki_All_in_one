{
 "cells": [
  {
   "cell_type": "markdown",
   "metadata": {},
   "source": [
    "# Patterns Problem in Python\n",
    "- Important for interviews and programming tests."
   ]
  },
  {
   "cell_type": "code",
   "execution_count": 54,
   "metadata": {},
   "outputs": [
    {
     "name": "stdout",
     "output_type": "stream",
     "text": [
      "4\n",
      "*\n",
      "**\n",
      "***\n",
      "****\n"
     ]
    }
   ],
   "source": [
    "i = 1\n",
    "inp = int(input())\n",
    "while i<=inp:\n",
    "    j = 1\n",
    "    while j<=i:\n",
    "        print(\"*\", end=\"\")\n",
    "        j+=1\n",
    "    print()\n",
    "    i+=1"
   ]
  },
  {
   "cell_type": "code",
   "execution_count": 31,
   "metadata": {},
   "outputs": [
    {
     "name": "stdout",
     "output_type": "stream",
     "text": [
      "*\n",
      "**\n",
      "***\n",
      "****\n"
     ]
    }
   ],
   "source": [
    "row = 5\n",
    "for i in range(1, row):\n",
    "    for j in range(1,i+1):\n",
    "        print('*',end=\"\")\n",
    "    print()\n",
    "        "
   ]
  },
  {
   "cell_type": "code",
   "execution_count": 32,
   "metadata": {},
   "outputs": [
    {
     "name": "stdout",
     "output_type": "stream",
     "text": [
      "****\n",
      "***\n",
      "**\n",
      "*\n",
      "\n"
     ]
    }
   ],
   "source": [
    "row = 5\n",
    "for i in range(0, row):\n",
    "    for j in range(1,row-i):\n",
    "        print('*',end=\"\")\n",
    "    print()\n",
    "        "
   ]
  },
  {
   "cell_type": "code",
   "execution_count": 34,
   "metadata": {},
   "outputs": [
    {
     "name": "stdout",
     "output_type": "stream",
     "text": [
      "   *\n",
      "  **\n",
      " ***\n",
      "****\n"
     ]
    }
   ],
   "source": [
    "row = 5\n",
    "for i in range(1, row):\n",
    "    for j in range(1, row-i):     # this loop will control the spaces before the '*'\n",
    "        print(end=\" \")\n",
    "    for j in range(1,i+1):\n",
    "        print('*',end=\"\")\n",
    "    print()\n",
    "        "
   ]
  },
  {
   "cell_type": "code",
   "execution_count": 39,
   "metadata": {},
   "outputs": [
    {
     "name": "stdout",
     "output_type": "stream",
     "text": [
      "****\n",
      " ***\n",
      "  **\n",
      "   *\n",
      "    \n"
     ]
    }
   ],
   "source": [
    "row = 5\n",
    "for i in range(0, row):\n",
    "    for j in range(row, row-i,-1):     # this loop will control the spaces before the '*'\n",
    "        print(end=\" \")\n",
    "    for j in range(1,row-i):\n",
    "        print('*',end=\"\")\n",
    "    print()\n",
    "        "
   ]
  },
  {
   "cell_type": "code",
   "execution_count": 43,
   "metadata": {},
   "outputs": [
    {
     "name": "stdout",
     "output_type": "stream",
     "text": [
      "   * \n",
      "  * * \n",
      " * * * \n",
      "* * * * \n"
     ]
    }
   ],
   "source": [
    "row = 5\n",
    "for i in range(1, row):\n",
    "    for j in range(1,row-i):\n",
    "        print(end=\" \")\n",
    "    for j in range(1,i+1):\n",
    "        print('*',end=\" \")      #give a space in end=\" \"\n",
    "    print()"
   ]
  },
  {
   "cell_type": "code",
   "execution_count": 23,
   "metadata": {},
   "outputs": [
    {
     "name": "stdout",
     "output_type": "stream",
     "text": [
      "    *\n",
      "   **\n",
      "  ***\n",
      " ****\n"
     ]
    }
   ],
   "source": [
    "for i in range(5,1,-1):\n",
    "    for j in range(1, i):\n",
    "        print(\" \", end= \"\")\n",
    "    for k in range(5,i-1, -1):\n",
    "        print(\"*\", end= \"\")\n",
    "    \n",
    "    print()\n",
    "    "
   ]
  },
  {
   "cell_type": "code",
   "execution_count": null,
   "metadata": {},
   "outputs": [],
   "source": [
    "row = 5\n",
    "for i in range(1,row):\n",
    "    for j in range(1, i):\n",
    "        print(end = \" \")\n",
    "    for k in range(i+1, 1, -1):\n",
    "        print(\"*\",end=\" \")\n",
    "    print()"
   ]
  },
  {
   "cell_type": "code",
   "execution_count": 45,
   "metadata": {},
   "outputs": [
    {
     "name": "stdout",
     "output_type": "stream",
     "text": [
      "* * * * \n",
      " * * * \n",
      "  * * \n",
      "   * \n",
      "    \n"
     ]
    }
   ],
   "source": [
    "row = 5\n",
    "for i in range(0, row):\n",
    "    for j in range(row,row-i,-1):\n",
    "        print(end=\" \")\n",
    "    for j in range(1,row-i):\n",
    "        print('*',end=\" \")      #give a space in end=\" \"\n",
    "    print()"
   ]
  },
  {
   "cell_type": "code",
   "execution_count": 47,
   "metadata": {},
   "outputs": [
    {
     "name": "stdout",
     "output_type": "stream",
     "text": [
      "   * \n",
      "  * * \n",
      " * * * \n",
      "* * * * \n",
      " * * * \n",
      "  * * \n",
      "   * \n",
      "    \n"
     ]
    }
   ],
   "source": [
    "row = 5\n",
    "for i in range(1, row):\n",
    "    for j in range(1,row-i):\n",
    "        print(end=\" \")\n",
    "    for j in range(1,i+1):\n",
    "        print('*',end=\" \")      #give a space in end=\" \"\n",
    "    print()\n",
    "for i in range(1, row):\n",
    "    for j in range(row,row-i,-1):\n",
    "        print(end=\" \")\n",
    "    for j in range(1,row-i):\n",
    "        print('*',end=\" \")      #give a space in end=\" \"\n",
    "    print()"
   ]
  },
  {
   "cell_type": "code",
   "execution_count": 50,
   "metadata": {},
   "outputs": [
    {
     "name": "stdout",
     "output_type": "stream",
     "text": [
      "*\n",
      "**\n",
      "***\n",
      "****\n",
      "***\n",
      "**\n",
      "*\n",
      "\n"
     ]
    }
   ],
   "source": [
    "row = 5\n",
    "for i in range(1, row):\n",
    "    for j in range(1,i+1):\n",
    "        print('*',end=\"\")\n",
    "    print()\n",
    "for i in range(1, row):\n",
    "    for j in range(1,row-i):\n",
    "        print('*',end=\"\")\n",
    "    print()\n",
    "        "
   ]
  },
  {
   "cell_type": "code",
   "execution_count": 53,
   "metadata": {},
   "outputs": [
    {
     "name": "stdout",
     "output_type": "stream",
     "text": [
      "   *\n",
      "  **\n",
      " ***\n",
      "****\n",
      " ***\n",
      "  **\n",
      "   *\n",
      "    \n"
     ]
    }
   ],
   "source": [
    "row = 5\n",
    "for i in range(1, row):\n",
    "    for j in range(1, row-i):     # this loop will control the spaces before the '*'\n",
    "        print(end=\" \")\n",
    "    for j in range(1,i+1):\n",
    "        print('*',end=\"\")\n",
    "    print()\n",
    "for i in range(1, row):\n",
    "    for j in range(row, row-i,-1):     # this loop will control the spaces before the '*'\n",
    "        print(end=\" \")\n",
    "    for j in range(1,row-i):\n",
    "        print('*',end=\"\")\n",
    "    print()\n",
    "        "
   ]
  },
  {
   "cell_type": "code",
   "execution_count": 9,
   "metadata": {},
   "outputs": [
    {
     "name": "stdout",
     "output_type": "stream",
     "text": [
      "1 \n",
      "2 3 \n",
      "4 5 6 \n",
      "7 8 9 10 \n"
     ]
    }
   ],
   "source": [
    "current_num = 1\n",
    "stop = 2\n",
    "for i in range(1,5):\n",
    "    for j in range(current_num, stop):\n",
    "        print(current_num, end = \" \")\n",
    "        current_num += 1\n",
    "    stop += i+1\n",
    "    print()"
   ]
  },
  {
   "cell_type": "code",
   "execution_count": 62,
   "metadata": {},
   "outputs": [
    {
     "name": "stdout",
     "output_type": "stream",
     "text": [
      "- - - - - - a - - - - - - \n",
      "- - - - - a b a - - - - - \n",
      "- - - - a b c b a - - - - \n",
      "- - - a b c d c b a - - - \n",
      "- - a b c d e d c b a - - \n",
      "- a b c d e f e d c b a - \n"
     ]
    }
   ],
   "source": [
    "for i in range(97,103):\n",
    "    for j in range(103,i,-1):\n",
    "        print('-', end=' ')\n",
    "    for k in range(97,i):\n",
    "        print(chr(k),end=' ')\n",
    "    for l in range(i,96,-1):\n",
    "        print(chr(l), end=\" \")\n",
    "    for m in range(103, i,-1):\n",
    "        print('-', end=\" \")\n",
    "    print()"
   ]
  },
  {
   "cell_type": "code",
   "execution_count": null,
   "metadata": {},
   "outputs": [],
   "source": []
  },
  {
   "cell_type": "code",
   "execution_count": null,
   "metadata": {},
   "outputs": [],
   "source": []
  },
  {
   "cell_type": "code",
   "execution_count": null,
   "metadata": {},
   "outputs": [],
   "source": []
  }
 ],
 "metadata": {
  "kernelspec": {
   "display_name": "Python 3 (ipykernel)",
   "language": "python",
   "name": "python3"
  },
  "language_info": {
   "codemirror_mode": {
    "name": "ipython",
    "version": 3
   },
   "file_extension": ".py",
   "mimetype": "text/x-python",
   "name": "python",
   "nbconvert_exporter": "python",
   "pygments_lexer": "ipython3",
   "version": "3.9.12"
  }
 },
 "nbformat": 4,
 "nbformat_minor": 4
}
