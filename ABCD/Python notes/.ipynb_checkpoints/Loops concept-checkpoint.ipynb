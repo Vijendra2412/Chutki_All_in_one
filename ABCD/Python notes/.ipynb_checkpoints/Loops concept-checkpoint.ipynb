{
 "cells": [
  {
   "cell_type": "markdown",
   "metadata": {},
   "source": [
    "# IF-Else"
   ]
  },
  {
   "cell_type": "code",
   "execution_count": null,
   "metadata": {},
   "outputs": [],
   "source": [
    "a == b # comaprinson\n",
    "a!=b\n"
   ]
  },
  {
   "cell_type": "code",
   "execution_count": 2,
   "metadata": {},
   "outputs": [
    {
     "name": "stdout",
     "output_type": "stream",
     "text": [
      "a is greater\n"
     ]
    }
   ],
   "source": [
    "a = 20\n",
    "b = 12\n",
    "if b>a:\n",
    "    print(\"b is greater\")\n",
    "else:\n",
    "    print('a is greater')"
   ]
  },
  {
   "cell_type": "markdown",
   "metadata": {},
   "source": [
    "# Elif"
   ]
  },
  {
   "cell_type": "code",
   "execution_count": 6,
   "metadata": {},
   "outputs": [
    {
     "ename": "SyntaxError",
     "evalue": "invalid syntax (<ipython-input-6-c66aae8155c8>, line 1)",
     "output_type": "error",
     "traceback": [
      "\u001b[1;36m  File \u001b[1;32m\"<ipython-input-6-c66aae8155c8>\"\u001b[1;36m, line \u001b[1;32m1\u001b[0m\n\u001b[1;33m    def myFunc()\u001b[0m\n\u001b[1;37m                ^\u001b[0m\n\u001b[1;31mSyntaxError\u001b[0m\u001b[1;31m:\u001b[0m invalid syntax\n"
     ]
    }
   ],
   "source": [
    "def myFunc()\n",
    "    return True\n",
    "\n",
    "myFunc()"
   ]
  },
  {
   "cell_type": "code",
   "execution_count": 1,
   "metadata": {},
   "outputs": [
    {
     "name": "stdout",
     "output_type": "stream",
     "text": [
      "False\n"
     ]
    }
   ],
   "source": [
    "a = 'sandeep'\n",
    "b = 'bhupendra'\n",
    "c = 'pradeep'\n",
    "\n",
    "if a == b:       # for one condition\n",
    "    print(True)\n",
    "    \n",
    "elif b == c:     # for another condition\n",
    "    print(True)\n",
    "     \n",
    "else:            # if no condition is satisfied go to else\n",
    "    print(False)"
   ]
  },
  {
   "cell_type": "code",
   "execution_count": null,
   "metadata": {},
   "outputs": [],
   "source": [
    "a = 3\n",
    "b = 200\n",
    "print(\"hello\") if a > b else\n",
    "print(\"Bye\")"
   ]
  },
  {
   "cell_type": "code",
   "execution_count": 17,
   "metadata": {},
   "outputs": [
    {
     "name": "stdout",
     "output_type": "stream",
     "text": [
      "2\n",
      "4\n",
      "6\n"
     ]
    }
   ],
   "source": [
    "list1 = [1,2,3,4,5,6]\n",
    "\n",
    "for x in list1:   # x is iterating over list1\n",
    "    if x%2 == 0:\n",
    "        print(x) "
   ]
  },
  {
   "cell_type": "code",
   "execution_count": 13,
   "metadata": {},
   "outputs": [
    {
     "data": {
      "text/plain": [
       "[2, 4, 6]"
      ]
     },
     "execution_count": 13,
     "metadata": {},
     "output_type": "execute_result"
    }
   ],
   "source": [
    "list1 = [1,2,3,4,5,6]\n",
    "\n",
    "even = [x for x in list1 if x%2==0]   #list comprehension\n",
    "even"
   ]
  },
  {
   "cell_type": "markdown",
   "metadata": {},
   "source": [
    "# While loop"
   ]
  },
  {
   "cell_type": "code",
   "execution_count": 18,
   "metadata": {},
   "outputs": [
    {
     "name": "stdout",
     "output_type": "stream",
     "text": [
      "1\n",
      "2\n",
      "3\n",
      "4\n"
     ]
    }
   ],
   "source": [
    "i = 1\n",
    "while i<5:\n",
    "    print(i)\n",
    "    i = i+1"
   ]
  },
  {
   "cell_type": "code",
   "execution_count": 21,
   "metadata": {},
   "outputs": [
    {
     "name": "stdout",
     "output_type": "stream",
     "text": [
      "1 2 3 "
     ]
    }
   ],
   "source": [
    "i = 1  # initialization\n",
    "while i < 5:\n",
    "    print(i, end=\" \")\n",
    "    if (i == 3):\n",
    "        break    # come out of all the loops and break the operation\n",
    "    i+=1\n",
    "    "
   ]
  },
  {
   "cell_type": "code",
   "execution_count": null,
   "metadata": {},
   "outputs": [],
   "source": [
    "while i<5:\n",
    "    if:\n",
    "        elif:\n",
    "            elif:\n",
    "                for:\n",
    "                    break    # terminate all the operations and come out of all the loops"
   ]
  },
  {
   "cell_type": "markdown",
   "metadata": {},
   "source": [
    "# For loop"
   ]
  },
  {
   "cell_type": "code",
   "execution_count": 22,
   "metadata": {},
   "outputs": [
    {
     "name": "stdout",
     "output_type": "stream",
     "text": [
      "rose\n",
      "jasmine\n",
      "lotus\n",
      "marigold\n"
     ]
    }
   ],
   "source": [
    "bookeh = ['rose','jasmine','lotus','marigold']\n",
    "\n",
    "for flowers in bookeh:    # flowers variable will iterate over bookeh var values\n",
    "    print(flowers)"
   ]
  },
  {
   "cell_type": "code",
   "execution_count": 26,
   "metadata": {},
   "outputs": [
    {
     "name": "stdout",
     "output_type": "stream",
     "text": [
      "Lotus is absent\n",
      "Lotus is absent\n",
      "Yes lotus is present in your bookeh\n",
      "Lotus is absent\n"
     ]
    }
   ],
   "source": [
    "bookeh = ['rose','jasmine','lotus','marigold']\n",
    "\n",
    "# flowers = rose  #1st iteration\n",
    "# flowers = jasmine  #2nd iteration\n",
    "# flowers = lotus   #3rd iteration\n",
    "# flowers = marigold #4th iteration\n",
    "\n",
    "for flowers in bookeh:    # flowers variable will iterate over bookeh var values\n",
    "    if(flowers == 'lotus'):\n",
    "        print(\"Yes lotus is present in your bookeh\")\n",
    "    else:\n",
    "        print(\"Lotus is absent\")"
   ]
  },
  {
   "cell_type": "code",
   "execution_count": null,
   "metadata": {},
   "outputs": [],
   "source": []
  }
 ],
 "metadata": {
  "kernelspec": {
   "display_name": "Python 3 (ipykernel)",
   "language": "python",
   "name": "python3"
  },
  "language_info": {
   "codemirror_mode": {
    "name": "ipython",
    "version": 3
   },
   "file_extension": ".py",
   "mimetype": "text/x-python",
   "name": "python",
   "nbconvert_exporter": "python",
   "pygments_lexer": "ipython3",
   "version": "3.9.12"
  }
 },
 "nbformat": 4,
 "nbformat_minor": 4
}
