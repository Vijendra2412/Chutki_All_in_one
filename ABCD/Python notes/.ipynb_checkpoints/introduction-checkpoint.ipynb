{
 "cells": [
  {
   "cell_type": "markdown",
   "id": "f62a07ff",
   "metadata": {},
   "source": [
    "# Escape Sequences"
   ]
  },
  {
   "cell_type": "markdown",
   "id": "b8cb1d68",
   "metadata": {},
   "source": [
    "An escape sequence is a sequence of characters that, when used inside a character or string, like newline (\\n), tab (\\t), and so on.\n",
    "In the escape sequence, a character is preceded by a backslash (\\\\) follwed by the character you wanna represent like for newline we have something like this \\\\\\n."
   ]
  },
  {
   "cell_type": "code",
   "execution_count": null,
   "id": "add877c6",
   "metadata": {},
   "outputs": [],
   "source": [
    "print('\\\\') # print backlash"
   ]
  },
  {
   "cell_type": "code",
   "execution_count": null,
   "id": "02e1020f",
   "metadata": {},
   "outputs": [],
   "source": [
    "print(' \\\\\\\\') # double backlash "
   ]
  },
  {
   "cell_type": "code",
   "execution_count": null,
   "id": "05f3d380",
   "metadata": {},
   "outputs": [],
   "source": [
    "print(\" \\\\\\\\\\\\ \") # triple backlash"
   ]
  },
  {
   "cell_type": "code",
   "execution_count": null,
   "id": "19a96728",
   "metadata": {},
   "outputs": [],
   "source": [
    "print('\\'')  # single quotes"
   ]
  },
  {
   "cell_type": "code",
   "execution_count": null,
   "id": "c6315803",
   "metadata": {},
   "outputs": [],
   "source": [
    "print(\"\\\"\") # double quote"
   ]
  },
  {
   "cell_type": "code",
   "execution_count": null,
   "id": "b6b0d6c7",
   "metadata": {},
   "outputs": [],
   "source": [
    "print('hello \\n world') # to print "
   ]
  },
  {
   "cell_type": "code",
   "execution_count": null,
   "id": "df773874",
   "metadata": {},
   "outputs": [],
   "source": [
    "print('hello \\r world') # to print "
   ]
  },
  {
   "cell_type": "code",
   "execution_count": null,
   "id": "bd62b816",
   "metadata": {},
   "outputs": [],
   "source": [
    "print('hello \\r pradeep') # to print eats up first word"
   ]
  },
  {
   "cell_type": "code",
   "execution_count": null,
   "id": "58fdcbdf",
   "metadata": {},
   "outputs": [],
   "source": [
    "print('hello \\v world')"
   ]
  },
  {
   "cell_type": "code",
   "execution_count": null,
   "id": "aa6446c1",
   "metadata": {},
   "outputs": [],
   "source": [
    "print('line A \\\\n line b')"
   ]
  },
  {
   "cell_type": "code",
   "execution_count": null,
   "id": "e059ba14",
   "metadata": {},
   "outputs": [],
   "source": [
    "print(\"U+1F602\")"
   ]
  },
  {
   "cell_type": "code",
   "execution_count": null,
   "id": "e0c69d4d",
   "metadata": {},
   "outputs": [],
   "source": [
    "print(\"hello \\t world\")"
   ]
  },
  {
   "cell_type": "code",
   "execution_count": null,
   "id": "3d81995d",
   "metadata": {},
   "outputs": [],
   "source": [
    "print('pradeep \\\\ ')"
   ]
  },
  {
   "cell_type": "code",
   "execution_count": 2,
   "id": "6a602fec",
   "metadata": {},
   "outputs": [
    {
     "name": "stdout",
     "output_type": "stream",
     "text": [
      "Who  this\n"
     ]
    }
   ],
   "source": [
    "print(\"Who this\")\n"
   ]
  },
  {
   "cell_type": "code",
   "execution_count": null,
   "id": "57a8374e",
   "metadata": {},
   "outputs": [],
   "source": []
  }
 ],
 "metadata": {
  "kernelspec": {
   "display_name": "Python 3",
   "language": "python",
   "name": "python3"
  },
  "language_info": {
   "codemirror_mode": {
    "name": "ipython",
    "version": 3
   },
   "file_extension": ".py",
   "mimetype": "text/x-python",
   "name": "python",
   "nbconvert_exporter": "python",
   "pygments_lexer": "ipython3",
   "version": "3.8.8"
  }
 },
 "nbformat": 4,
 "nbformat_minor": 5
}
