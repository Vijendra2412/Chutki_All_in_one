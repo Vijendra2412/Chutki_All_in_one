{
 "cells": [
  {
   "cell_type": "markdown",
   "metadata": {},
   "source": [
    "## Module 14, Functions, Lambda, map, filter, reduce"
   ]
  },
  {
   "cell_type": "code",
   "execution_count": 2,
   "metadata": {},
   "outputs": [],
   "source": [
    "def my_func():     #defining a function without any parameters\n",
    "    print(\"Hello\")"
   ]
  },
  {
   "cell_type": "code",
   "execution_count": 3,
   "metadata": {},
   "outputs": [
    {
     "name": "stdout",
     "output_type": "stream",
     "text": [
      "Hello\n"
     ]
    }
   ],
   "source": [
    "my_func()          # function needs to be called in order to run its statements"
   ]
  },
  {
   "cell_type": "code",
   "execution_count": 4,
   "metadata": {},
   "outputs": [
    {
     "name": "stdout",
     "output_type": "stream",
     "text": [
      "apple\n",
      "banana\n",
      "anything\n"
     ]
    }
   ],
   "source": [
    "def my_func2(y):\n",
    "    for x in y:     #iterating over all the elements passed toa  function\n",
    "        print(x)\n",
    "        \n",
    "fruits = ['apple','banana','anything']\n",
    "my_func2(fruits)    # calling a function and passing the argument i.e. fruits"
   ]
  },
  {
   "cell_type": "markdown",
   "metadata": {},
   "source": [
    "## Function Objects"
   ]
  },
  {
   "cell_type": "code",
   "execution_count": 4,
   "metadata": {},
   "outputs": [
    {
     "name": "stdout",
     "output_type": "stream",
     "text": [
      "apple\n",
      "banana\n",
      "anything\n"
     ]
    }
   ],
   "source": [
    "def my_func2(y):\n",
    "    for x in y :\n",
    "        print(x)\n",
    "        \n",
    "# fruits = ['apple','banana','anything']\n",
    "# my_func2(fruits)\n",
    "\n",
    "# we can also create fucntions object which will take the same arguments as their functions\n",
    "funcObject = my_func2   \n",
    "funcObject(fruits)"
   ]
  },
  {
   "cell_type": "markdown",
   "metadata": {},
   "source": [
    "## Number of arguments"
   ]
  },
  {
   "cell_type": "code",
   "execution_count": 5,
   "metadata": {},
   "outputs": [
    {
     "name": "stdout",
     "output_type": "stream",
     "text": [
      "shubham\n",
      "sumit\n",
      "1\n"
     ]
    }
   ],
   "source": [
    "def func3(x,y,z=1):    # z is your default parameter\n",
    "    print(x)\n",
    "    print(y)\n",
    "    print(z)\n",
    "    \n",
    "func3('shubham','sumit')"
   ]
  },
  {
   "cell_type": "markdown",
   "metadata": {},
   "source": [
    "## Arbitrary Arguments, *args"
   ]
  },
  {
   "cell_type": "markdown",
   "metadata": {},
   "source": [
    "If you do not know how many arguments will be passed into your function, add a * before the parameter name in the function definition.<br>\n",
    "- this way the function will receive a tuple of arguments,and can access items accordingly."
   ]
  },
  {
   "cell_type": "code",
   "execution_count": 6,
   "metadata": {},
   "outputs": [
    {
     "name": "stdout",
     "output_type": "stream",
     "text": [
      "My friend is Sunny\n"
     ]
    }
   ],
   "source": [
    "def my_fun(*friends):                     # number of arguments to be passed is not known\n",
    "    print('My friend is ' + friends[2])\n",
    "    \n",
    "my_fun('Dhirendra','Harshit','Sunny')     #arguments passing"
   ]
  },
  {
   "cell_type": "code",
   "execution_count": 7,
   "metadata": {},
   "outputs": [
    {
     "name": "stdout",
     "output_type": "stream",
     "text": [
      "Jane\n",
      "25\n",
      "Jane\n",
      "35\n"
     ]
    }
   ],
   "source": [
    "def func(name,age=35):      #default parameter needs to be initialized at the last\n",
    "    print(name)\n",
    "    print(age)\n",
    "\n",
    "func(name='Jane', age=25)    # key arguments; here order of the argument does not matter\n",
    "func('Jane')\n"
   ]
  },
  {
   "cell_type": "code",
   "execution_count": 8,
   "metadata": {},
   "outputs": [
    {
     "name": "stdout",
     "output_type": "stream",
     "text": [
      "name Jane\n",
      "age 25\n",
      "name jane\n",
      "age 35\n"
     ]
    }
   ],
   "source": [
    "def func(name, age=35): \n",
    "    print('name',name)\n",
    "    print('age',age)\n",
    "    \n",
    "func(name='Jane', age = 25)   #argument passing\n",
    "func(name='jane')"
   ]
  },
  {
   "cell_type": "markdown",
   "metadata": {},
   "source": [
    "name is a requuired parameter`\n",
    "age=35 is your default parameter\n",
    "name='jane' is your keyword parameter\n",
    "variable length parameters\n"
   ]
  },
  {
   "cell_type": "code",
   "execution_count": 9,
   "metadata": {},
   "outputs": [
    {
     "name": "stdout",
     "output_type": "stream",
     "text": [
      "name Jane\n",
      "age 20\n",
      "hobby cricket\n"
     ]
    }
   ],
   "source": [
    "def func(name, age, hobby): #reqquired parameter\n",
    "    print('name',name)\n",
    "    print('age',age)\n",
    "    print('hobby', hobby)\n",
    "    \n",
    "func(name='Jane', age=20, hobby='cricket')   #variable length argument"
   ]
  },
  {
   "cell_type": "raw",
   "metadata": {},
   "source": []
  },
  {
   "cell_type": "markdown",
   "metadata": {},
   "source": [
    "#### If the number of keyword arguments is unknown, add a double ** before the parameter name."
   ]
  },
  {
   "cell_type": "markdown",
   "metadata": {},
   "source": [
    "## **kwargs functions"
   ]
  },
  {
   "cell_type": "code",
   "execution_count": 10,
   "metadata": {},
   "outputs": [
    {
     "name": "stdout",
     "output_type": "stream",
     "text": [
      "My friend is Dubey\n"
     ]
    }
   ],
   "source": [
    "def my_fun(**kwargs):                          # number of arguments to be passed is not known\n",
    "    print('My friend is ' + kwargs['lname'])   #pass the variable name.\n",
    "    \n",
    "my_fun(fname ='Dhirendra',lname='Dubey')       #arguments passing"
   ]
  },
  {
   "cell_type": "markdown",
   "metadata": {},
   "source": [
    "### Recursion: Calling a  function within a function"
   ]
  },
  {
   "cell_type": "code",
   "execution_count": 11,
   "metadata": {},
   "outputs": [
    {
     "data": {
      "text/plain": [
       "23"
      ]
     },
     "execution_count": 11,
     "metadata": {},
     "output_type": "execute_result"
    }
   ],
   "source": [
    "def func(x, y=1):\n",
    "    z = x*y + x + y\n",
    "    return z\n",
    "\n",
    "func(2, func(3))    # recursively calling the same function"
   ]
  },
  {
   "cell_type": "code",
   "execution_count": 12,
   "metadata": {},
   "outputs": [
    {
     "name": "stdout",
     "output_type": "stream",
     "text": [
      "hello\n"
     ]
    }
   ],
   "source": [
    "def my_func():\n",
    "    print(\"hello\")\n",
    "    pass\n",
    "my_func()"
   ]
  },
  {
   "cell_type": "code",
   "execution_count": 13,
   "metadata": {},
   "outputs": [
    {
     "name": "stdout",
     "output_type": "stream",
     "text": [
      "24\n"
     ]
    }
   ],
   "source": [
    "def factorial(x):\n",
    "    if  x == 0:\n",
    "        return 1\n",
    "    else:\n",
    "        return( x*factorial(x-1))     #recursive calling of a function\n",
    "\n",
    "num = 4\n",
    "print(factorial(num))\n"
   ]
  },
  {
   "cell_type": "code",
   "execution_count": 14,
   "metadata": {},
   "outputs": [
    {
     "data": {
      "text/plain": [
       "24"
      ]
     },
     "execution_count": 14,
     "metadata": {},
     "output_type": "execute_result"
    }
   ],
   "source": [
    "4*3*2*1"
   ]
  },
  {
   "cell_type": "markdown",
   "metadata": {},
   "source": [
    "## Lambda Functions"
   ]
  },
  {
   "cell_type": "code",
   "execution_count": 15,
   "metadata": {},
   "outputs": [
    {
     "name": "stdout",
     "output_type": "stream",
     "text": [
      "15\n"
     ]
    }
   ],
   "source": [
    "x = lambda a : a + 10\n",
    "print(x(5))"
   ]
  },
  {
   "cell_type": "code",
   "execution_count": 16,
   "metadata": {},
   "outputs": [
    {
     "name": "stdout",
     "output_type": "stream",
     "text": [
      "18\n"
     ]
    }
   ],
   "source": [
    "y = lambda a,b : a+b+10\n",
    "print(y(5,3))"
   ]
  },
  {
   "cell_type": "code",
   "execution_count": 17,
   "metadata": {},
   "outputs": [
    {
     "name": "stdout",
     "output_type": "stream",
     "text": [
      "15\n"
     ]
    }
   ],
   "source": [
    "def func(z):\n",
    "    x = z+10\n",
    "    return x\n",
    "print(func(5))"
   ]
  },
  {
   "cell_type": "markdown",
   "metadata": {},
   "source": [
    "## Lambda Functions Object"
   ]
  },
  {
   "cell_type": "code",
   "execution_count": 18,
   "metadata": {},
   "outputs": [
    {
     "data": {
      "text/plain": [
       "64"
      ]
     },
     "execution_count": 18,
     "metadata": {},
     "output_type": "execute_result"
    }
   ],
   "source": [
    "x = lambda a: a**3    # x is your lambda object \n",
    "x(4)                  # to which you pass arguments for the value of a"
   ]
  },
  {
   "cell_type": "code",
   "execution_count": 19,
   "metadata": {},
   "outputs": [
    {
     "data": {
      "text/plain": [
       "27"
      ]
     },
     "execution_count": 19,
     "metadata": {},
     "output_type": "execute_result"
    }
   ],
   "source": [
    "# You can also do like this:\n",
    "y = x      #aliasing\n",
    "y(3)"
   ]
  },
  {
   "cell_type": "markdown",
   "metadata": {},
   "source": [
    "# Map, Filter & Reduce fucntions"
   ]
  },
  {
   "cell_type": "markdown",
   "metadata": {},
   "source": [
    "## MAP\n",
    "\n",
    "Python's map() is a built-in function that **allows you to process and transform all the items in an iterable** without using an explicit for loop, a technique commonly known as mapping. \n",
    "\n",
    "map() is useful **when you need to apply a transformation function** to each item in an iterable and transform them into a new iterable.\n",
    "\n",
    "Syntax: **map(function, iterable)**"
   ]
  },
  {
   "cell_type": "code",
   "execution_count": 20,
   "metadata": {},
   "outputs": [
    {
     "name": "stdout",
     "output_type": "stream",
     "text": [
      "['INDIA', 'JAPAN', 'ITALY', 'FRANCE']\n"
     ]
    }
   ],
   "source": [
    "countries = ['India','Japan','Italy','France']\n",
    "\n",
    "a = map(lambda x: x.upper(), countries)\n",
    "print(list(a))"
   ]
  },
  {
   "cell_type": "code",
   "execution_count": 21,
   "metadata": {},
   "outputs": [
    {
     "name": "stdout",
     "output_type": "stream",
     "text": [
      "['shubham sharma', 'sachin kumar', 'sumit thakur']\n"
     ]
    }
   ],
   "source": [
    "list1 = ['shubham','sachin','sumit']\n",
    "list2 = ['sharma', 'kumar', 'thakur']\n",
    "\n",
    "name = map(lambda x,y : x + \" \" + y, list1, list2)\n",
    "print(list(name))"
   ]
  },
  {
   "cell_type": "markdown",
   "metadata": {},
   "source": [
    "## Filter\n",
    "\n",
    "The filter() method filters the given sequence with the help of a function that tests each element in the sequence to be true or not. \n",
    "\n",
    "Syntax: **filter(function, sequence)**\n"
   ]
  },
  {
   "cell_type": "code",
   "execution_count": 22,
   "metadata": {},
   "outputs": [
    {
     "data": {
      "text/plain": [
       "['India', 'Japan', 'Italy', 'France']"
      ]
     },
     "execution_count": 22,
     "metadata": {},
     "output_type": "execute_result"
    }
   ],
   "source": [
    "countries"
   ]
  },
  {
   "cell_type": "code",
   "execution_count": 23,
   "metadata": {},
   "outputs": [
    {
     "name": "stdout",
     "output_type": "stream",
     "text": [
      "['India', 'Italy']\n"
     ]
    }
   ],
   "source": [
    "fil = filter(lambda x: x.startswith('I'), countries)\n",
    "print(list(fil))"
   ]
  },
  {
   "cell_type": "code",
   "execution_count": 24,
   "metadata": {},
   "outputs": [
    {
     "name": "stdout",
     "output_type": "stream",
     "text": [
      "['sharp', 'shoap']\n"
     ]
    }
   ],
   "source": [
    "inlist = ['sharp','shoap','shy','sedan']\n",
    "\n",
    "print(list(filter(lambda x: x.startswith('s') and x.endswith('p'), inlist)))"
   ]
  },
  {
   "cell_type": "markdown",
   "metadata": {},
   "source": [
    "## Reduce"
   ]
  },
  {
   "cell_type": "markdown",
   "metadata": {},
   "source": [
    "The **reduce(function,sequence)** function is used to apply a particular function passed in its argument to all of the list elements mentioned in the sequence passed along.This function is defined in “functools” module.\n",
    "\n",
    "Working :  \n",
    "\n",
    "    At first step, first two elements of sequence are picked and the result is obtained.\n",
    "\n",
    "    Next step is to apply the same function to the previously attained result and the number just succeeding the second element and the result is again stored.\n",
    "    This process continues till no more elements are left in the container.\n",
    "\n",
    "    The final returned result is returned and printed on console."
   ]
  },
  {
   "attachments": {
    "reduce.JPG": {
     "image/jpeg": "[encoded data removed]"
    }
   },
   "cell_type": "markdown",
   "metadata": {},
   "source": [
    "![reduce.JPG](attachment:reduce.JPG)"
   ]
  },
  {
   "cell_type": "code",
   "execution_count": 25,
   "metadata": {},
   "outputs": [
    {
     "data": {
      "text/plain": [
       "['India', 'Japan', 'Italy', 'France']"
      ]
     },
     "execution_count": 25,
     "metadata": {},
     "output_type": "execute_result"
    }
   ],
   "source": [
    "countries"
   ]
  },
  {
   "cell_type": "markdown",
   "metadata": {},
   "source": [
    "#### Before working with the reduce functions we need to import it from 'functools' module"
   ]
  },
  {
   "cell_type": "code",
   "execution_count": 26,
   "metadata": {},
   "outputs": [],
   "source": [
    "from functools import reduce"
   ]
  },
  {
   "cell_type": "code",
   "execution_count": 27,
   "metadata": {},
   "outputs": [
    {
     "name": "stdout",
     "output_type": "stream",
     "text": [
      "India Japan Italy France\n"
     ]
    }
   ],
   "source": [
    "a = reduce(lambda x,y : x +\" \"+y, countries)\n",
    "print(a)"
   ]
  },
  {
   "cell_type": "code",
   "execution_count": 28,
   "metadata": {},
   "outputs": [
    {
     "name": "stdout",
     "output_type": "stream",
     "text": [
      "24\n"
     ]
    }
   ],
   "source": [
    "a = reduce(lambda x,y: x*y, range(1,5))    # range(1,5) is equal to [1,2,3,4]\n",
    "print(a)"
   ]
  },
  {
   "cell_type": "markdown",
   "metadata": {},
   "source": [
    "#### find the factorial of a user given number using \"reduce\" function"
   ]
  },
  {
   "cell_type": "code",
   "execution_count": 29,
   "metadata": {},
   "outputs": [
    {
     "name": "stdout",
     "output_type": "stream",
     "text": [
      "5\n"
     ]
    },
    {
     "data": {
      "text/plain": [
       "120"
      ]
     },
     "execution_count": 29,
     "metadata": {},
     "output_type": "execute_result"
    }
   ],
   "source": [
    "n = int(input())\n",
    "reduce(lambda x,y: x*y, range(1,n+1))"
   ]
  },
  {
   "cell_type": "markdown",
   "metadata": {},
   "source": [
    "## Concept!\n",
    "\n",
    "# Generator Functions\n",
    "- Generator function is a funtion which returns **generator-iterator** with the help of **yield keyword**\n",
    "\n",
    "- **NOTE**: All generator-iterators are iterators but all iterators are not generator-iterator."
   ]
  },
  {
   "cell_type": "markdown",
   "metadata": {},
   "source": [
    "### Yield Keyword\n",
    "Yield is a keyword in Python that **is used to return from a function without destroying the states of its local variable and when the function is called, the execution starts from the last yield statement**. \n",
    "\n",
    "Any function that contains a yield keyword is termed a generator. Hence, yield is what makes a generator. The yield keyword in Python is less known off but has a greater utility which one can think of."
   ]
  },
  {
   "cell_type": "markdown",
   "metadata": {},
   "source": [
    "#### Python code to demonstrate the yield keyword."
   ]
  },
  {
   "cell_type": "code",
   "execution_count": 56,
   "metadata": {},
   "outputs": [
    {
     "name": "stdout",
     "output_type": "stream",
     "text": [
      "1\n",
      "2\n",
      "3\n"
     ]
    }
   ],
   "source": [
    "def generator():\n",
    "    yield 1           # yield is a keyword and 1,2&3 are the values that will store in generator.\n",
    "    yield 2\n",
    "    yield 3\n",
    "\n",
    "for i in generator(): # to print the value inside the function\n",
    "    print(i)"
   ]
  },
  {
   "cell_type": "code",
   "execution_count": 71,
   "metadata": {},
   "outputs": [],
   "source": [
    "def fib(mymax):\n",
    "    a,b = 0,1\n",
    "    while True:\n",
    "        c=a+b\n",
    "        if c<mymax:\n",
    "            print('Before Yield')\n",
    "            yield c\n",
    "            print('After Yield')\n",
    "            a = b\n",
    "            b = c\n",
    "        else:\n",
    "            break"
   ]
  },
  {
   "cell_type": "code",
   "execution_count": 72,
   "metadata": {},
   "outputs": [
    {
     "data": {
      "text/plain": [
       "<generator object fib at 0x000002324C9FFBC8>"
      ]
     },
     "execution_count": 72,
     "metadata": {},
     "output_type": "execute_result"
    }
   ],
   "source": [
    "fib(10)     # you can see that the fib function is a generator object"
   ]
  },
  {
   "cell_type": "code",
   "execution_count": 73,
   "metadata": {},
   "outputs": [],
   "source": [
    "gen = fib(10)"
   ]
  },
  {
   "cell_type": "code",
   "execution_count": 75,
   "metadata": {},
   "outputs": [
    {
     "name": "stdout",
     "output_type": "stream",
     "text": [
      "After Yield\n",
      "Before Yield\n"
     ]
    },
    {
     "data": {
      "text/plain": [
       "2"
      ]
     },
     "execution_count": 75,
     "metadata": {},
     "output_type": "execute_result"
    }
   ],
   "source": [
    "next(gen)         # you can re-run this cell multiple times to see the working of yield keyword"
   ]
  },
  {
   "cell_type": "markdown",
   "metadata": {},
   "source": [
    "#### Generator to print even numbers\n"
   ]
  },
  {
   "cell_type": "code",
   "execution_count": 37,
   "metadata": {},
   "outputs": [
    {
     "name": "stdout",
     "output_type": "stream",
     "text": [
      "The original list is : [1, 4, 5, 6, 7]\n",
      "The even numbers in list are :  4 6 "
     ]
    }
   ],
   "source": [
    "def print_even(test_list) :\n",
    "    for i in test_list:\n",
    "        if i % 2 == 0:\n",
    "            yield i\n",
    "\n",
    "# initializing a list           \n",
    "test_list = [1, 4, 5, 6, 7]\n",
    " \n",
    "# printing initial list\n",
    "print (\"The original list is : \" +  str(test_list))\n",
    " \n",
    "# printing even numbers\n",
    "print (\"The even numbers in list are : \", end = \" \")\n",
    "for j in print_even(test_list):\n",
    "    print (j, end = \" \")"
   ]
  },
  {
   "cell_type": "code",
   "execution_count": 49,
   "metadata": {},
   "outputs": [
    {
     "name": "stdout",
     "output_type": "stream",
     "text": [
      "1\n",
      "4\n",
      "9\n",
      "16\n",
      "25\n",
      "36\n",
      "49\n",
      "64\n",
      "81\n",
      "100\n"
     ]
    }
   ],
   "source": [
    "# A Python program to generate squares from 1\n",
    "# to 100 using yield and therefore generator\n",
    " \n",
    "# An infinite generator function that prints\n",
    "# next square number. It starts with 1\n",
    "def nextSquare():\n",
    "    i = 1\n",
    " \n",
    "    # An Infinite loop to generate squares\n",
    "    while True:\n",
    "        yield i*i                \n",
    "        i += 1 # Next execution resumes\n",
    "                # from this point    \n",
    "# Driver code\n",
    "for num in nextSquare():\n",
    "    if num > 100:\n",
    "        break   \n",
    "    print(num)"
   ]
  },
  {
   "cell_type": "markdown",
   "metadata": {},
   "source": [
    "### Advantages of yield: \n",
    "\n",
    "- Since it stores the local variable states, hence overhead of memory allocation is controlled.\n",
    "\n",
    "- Since the old state is retained, the flow doesn’t start from the beginning and hence saves time."
   ]
  },
  {
   "cell_type": "markdown",
   "metadata": {},
   "source": [
    "### Disadvantages of yield: \n",
    "\n",
    "- Sometimes, the use of yield becomes erroneous if the calling of function is not handled properly.\n",
    "- Time and memory optimization has a cost of complexity of code and hence sometimes hard to understand the logic behind it."
   ]
  },
  {
   "cell_type": "markdown",
   "metadata": {},
   "source": [
    "### Practical Applications: \n",
    "\n",
    "The possible practical application is that when handling the last amount of data and searching particulars from it, yield can be used as we don’t need to look up again from start and hence would save time. There can possibly be many applications of yield depending upon the use cases. "
   ]
  },
  {
   "cell_type": "code",
   "execution_count": null,
   "metadata": {},
   "outputs": [],
   "source": []
  }
 ],
 "metadata": {
  "kernelspec": {
   "display_name": "Python 3",
   "language": "python",
   "name": "python3"
  },
  "language_info": {
   "codemirror_mode": {
    "name": "ipython",
    "version": 3
   },
   "file_extension": ".py",
   "mimetype": "text/x-python",
   "name": "python",
   "nbconvert_exporter": "python",
   "pygments_lexer": "ipython3",
   "version": "3.9.12"
  }
 },
 "nbformat": 4,
 "nbformat_minor": 4
}
